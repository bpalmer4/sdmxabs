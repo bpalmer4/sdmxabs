{
 "cells": [
  {
   "cell_type": "markdown",
   "metadata": {},
   "source": [
    "# ABS Inflation multi-measure"
   ]
  },
  {
   "cell_type": "markdown",
   "metadata": {},
   "source": [
    "## Python set-up"
   ]
  },
  {
   "cell_type": "code",
   "execution_count": 1,
   "metadata": {
    "ExecuteTime": {
     "end_time": "2021-06-17T03:27:46.577688Z",
     "start_time": "2021-06-17T03:27:45.727512Z"
    },
    "tags": []
   },
   "outputs": [],
   "source": [
    "# system imports\n",
    "from io import StringIO\n",
    "from typing import cast\n",
    "\n",
    "# analytic imports\n",
    "import pandas as pd\n",
    "import sdmxabs as sa\n",
    "import mgplot as mg"
   ]
  },
  {
   "cell_type": "code",
   "execution_count": 2,
   "metadata": {},
   "outputs": [],
   "source": [
    "# save charts in this notebook\n",
    "CHART_DIR = \"./CHARTS/Inflation-sdmx/\"\n",
    "mg.set_chart_dir(CHART_DIR)\n",
    "mg.clear_chart_dir()\n",
    "\n",
    "# display charts in this notebook\n",
    "SHOW = False"
   ]
  },
  {
   "cell_type": "markdown",
   "metadata": {},
   "source": [
    "## Exploratory data analysis"
   ]
  },
  {
   "cell_type": "markdown",
   "metadata": {},
   "source": [
    "### Data flows"
   ]
  },
  {
   "cell_type": "code",
   "execution_count": 3,
   "metadata": {},
   "outputs": [
    {
     "data": {
      "application/vnd.microsoft.datawrangler.viewer.v0+json": {
       "columns": [
        {
         "name": "dataflows",
         "rawType": "object",
         "type": "string"
        },
        {
         "name": "agencyID",
         "rawType": "object",
         "type": "string"
        },
        {
         "name": "version",
         "rawType": "object",
         "type": "string"
        },
        {
         "name": "isFinal",
         "rawType": "object",
         "type": "string"
        },
        {
         "name": "name",
         "rawType": "object",
         "type": "string"
        }
       ],
       "ref": "1a7f2829-73b2-42de-9cc2-8b47b34a2e91",
       "rows": [
        [
         "ANA_EXP",
         "ABS",
         "1.0.0",
         "true",
         "Australian National Accounts - Expenditure on Gross Domestic Product (GDP (E))"
        ],
        [
         "ANA_SFD",
         "ABS",
         "1.0.0",
         "true",
         "Australian National Accounts - State Final Demand"
        ],
        [
         "ANA_AGG",
         "ABS",
         "1.0.0",
         "true",
         "Australian National Accounts Key Aggregates"
        ],
        [
         "ANA_INC",
         "ABS",
         "1.0.0",
         "true",
         "Australian National Accounts – Income from Gross Domestic Product (GDP (I))"
        ],
        [
         "ANA_IND_GVA",
         "ABS",
         "1.0.0",
         "true",
         "Australian National Accounts – Production of Gross Domestic Product (GDP (P))"
        ]
       ],
       "shape": {
        "columns": 4,
        "rows": 5
       }
      },
      "text/html": [
       "<div>\n",
       "<style scoped>\n",
       "    .dataframe tbody tr th:only-of-type {\n",
       "        vertical-align: middle;\n",
       "    }\n",
       "\n",
       "    .dataframe tbody tr th {\n",
       "        vertical-align: top;\n",
       "    }\n",
       "\n",
       "    .dataframe thead th {\n",
       "        text-align: right;\n",
       "    }\n",
       "</style>\n",
       "<table border=\"1\" class=\"dataframe\">\n",
       "  <thead>\n",
       "    <tr style=\"text-align: right;\">\n",
       "      <th></th>\n",
       "      <th>agencyID</th>\n",
       "      <th>version</th>\n",
       "      <th>isFinal</th>\n",
       "      <th>name</th>\n",
       "    </tr>\n",
       "    <tr>\n",
       "      <th>dataflows</th>\n",
       "      <th></th>\n",
       "      <th></th>\n",
       "      <th></th>\n",
       "      <th></th>\n",
       "    </tr>\n",
       "  </thead>\n",
       "  <tbody>\n",
       "    <tr>\n",
       "      <th>ANA_EXP</th>\n",
       "      <td>ABS</td>\n",
       "      <td>1.0.0</td>\n",
       "      <td>true</td>\n",
       "      <td>Australian National Accounts - Expenditure on ...</td>\n",
       "    </tr>\n",
       "    <tr>\n",
       "      <th>ANA_SFD</th>\n",
       "      <td>ABS</td>\n",
       "      <td>1.0.0</td>\n",
       "      <td>true</td>\n",
       "      <td>Australian National Accounts - State Final Demand</td>\n",
       "    </tr>\n",
       "    <tr>\n",
       "      <th>ANA_AGG</th>\n",
       "      <td>ABS</td>\n",
       "      <td>1.0.0</td>\n",
       "      <td>true</td>\n",
       "      <td>Australian National Accounts Key Aggregates</td>\n",
       "    </tr>\n",
       "    <tr>\n",
       "      <th>ANA_INC</th>\n",
       "      <td>ABS</td>\n",
       "      <td>1.0.0</td>\n",
       "      <td>true</td>\n",
       "      <td>Australian National Accounts – Income from Gro...</td>\n",
       "    </tr>\n",
       "    <tr>\n",
       "      <th>ANA_IND_GVA</th>\n",
       "      <td>ABS</td>\n",
       "      <td>1.0.0</td>\n",
       "      <td>true</td>\n",
       "      <td>Australian National Accounts – Production of G...</td>\n",
       "    </tr>\n",
       "  </tbody>\n",
       "</table>\n",
       "</div>"
      ],
      "text/plain": [
       "            agencyID version isFinal  \\\n",
       "dataflows                              \n",
       "ANA_EXP          ABS   1.0.0    true   \n",
       "ANA_SFD          ABS   1.0.0    true   \n",
       "ANA_AGG          ABS   1.0.0    true   \n",
       "ANA_INC          ABS   1.0.0    true   \n",
       "ANA_IND_GVA      ABS   1.0.0    true   \n",
       "\n",
       "                                                          name  \n",
       "dataflows                                                       \n",
       "ANA_EXP      Australian National Accounts - Expenditure on ...  \n",
       "ANA_SFD      Australian National Accounts - State Final Demand  \n",
       "ANA_AGG            Australian National Accounts Key Aggregates  \n",
       "ANA_INC      Australian National Accounts – Income from Gro...  \n",
       "ANA_IND_GVA  Australian National Accounts – Production of G...  "
      ]
     },
     "execution_count": 3,
     "metadata": {},
     "output_type": "execute_result"
    }
   ],
   "source": [
    "# search data flows for the National Accounts data\n",
    "dflows = sa.data_flows()  # returns more than 1200 rows, each a data flow.\n",
    "dflows[dflows.name.str.contains(\"National Accounts\")].sort_values(\"name\").head(10)"
   ]
  },
  {
   "cell_type": "code",
   "execution_count": 4,
   "metadata": {},
   "outputs": [
    {
     "data": {
      "application/vnd.microsoft.datawrangler.viewer.v0+json": {
       "columns": [
        {
         "name": "dataflows",
         "rawType": "object",
         "type": "string"
        },
        {
         "name": "agencyID",
         "rawType": "object",
         "type": "string"
        },
        {
         "name": "version",
         "rawType": "object",
         "type": "string"
        },
        {
         "name": "isFinal",
         "rawType": "object",
         "type": "string"
        },
        {
         "name": "name",
         "rawType": "object",
         "type": "string"
        }
       ],
       "ref": "b981b6ac-01df-4971-a770-c71e47c83f20",
       "rows": [
        [
         "CPI",
         "ABS",
         "1.1.0",
         "true",
         "Consumer Price Index (CPI) 17th Series"
        ],
        [
         "CPI_WEIGHTS",
         "ABS",
         "1.0.0",
         "true",
         "Consumer Price Index (CPI) Weights"
        ],
        [
         "ITPI_EXP",
         "ABS",
         "1.0.0",
         "true",
         "Export Price Index"
        ],
        [
         "ITPI_IMP",
         "ABS",
         "1.0.0",
         "true",
         "Import Price Index"
        ],
        [
         "CPI_M",
         "ABS",
         "1.2.0",
         "true",
         "Monthly Consumer Price Index (CPI) indicator"
        ],
        [
         "PPI",
         "ABS",
         "1.1.3",
         "true",
         "Producer Price Indexes by Industry"
        ],
        [
         "PPI_FD",
         "ABS",
         "1.1.0",
         "true",
         "Producer Price Indexes, Final Demand"
        ],
        [
         "RPPI",
         "ABS",
         "1.0.0",
         "true",
         "Residential Property Price Index"
        ],
        [
         "WPI",
         "ABS",
         "1.2.0",
         "true",
         "Wage Price Index"
        ]
       ],
       "shape": {
        "columns": 4,
        "rows": 9
       }
      },
      "text/html": [
       "<div>\n",
       "<style scoped>\n",
       "    .dataframe tbody tr th:only-of-type {\n",
       "        vertical-align: middle;\n",
       "    }\n",
       "\n",
       "    .dataframe tbody tr th {\n",
       "        vertical-align: top;\n",
       "    }\n",
       "\n",
       "    .dataframe thead th {\n",
       "        text-align: right;\n",
       "    }\n",
       "</style>\n",
       "<table border=\"1\" class=\"dataframe\">\n",
       "  <thead>\n",
       "    <tr style=\"text-align: right;\">\n",
       "      <th></th>\n",
       "      <th>agencyID</th>\n",
       "      <th>version</th>\n",
       "      <th>isFinal</th>\n",
       "      <th>name</th>\n",
       "    </tr>\n",
       "    <tr>\n",
       "      <th>dataflows</th>\n",
       "      <th></th>\n",
       "      <th></th>\n",
       "      <th></th>\n",
       "      <th></th>\n",
       "    </tr>\n",
       "  </thead>\n",
       "  <tbody>\n",
       "    <tr>\n",
       "      <th>CPI</th>\n",
       "      <td>ABS</td>\n",
       "      <td>1.1.0</td>\n",
       "      <td>true</td>\n",
       "      <td>Consumer Price Index (CPI) 17th Series</td>\n",
       "    </tr>\n",
       "    <tr>\n",
       "      <th>CPI_WEIGHTS</th>\n",
       "      <td>ABS</td>\n",
       "      <td>1.0.0</td>\n",
       "      <td>true</td>\n",
       "      <td>Consumer Price Index (CPI) Weights</td>\n",
       "    </tr>\n",
       "    <tr>\n",
       "      <th>ITPI_EXP</th>\n",
       "      <td>ABS</td>\n",
       "      <td>1.0.0</td>\n",
       "      <td>true</td>\n",
       "      <td>Export Price Index</td>\n",
       "    </tr>\n",
       "    <tr>\n",
       "      <th>ITPI_IMP</th>\n",
       "      <td>ABS</td>\n",
       "      <td>1.0.0</td>\n",
       "      <td>true</td>\n",
       "      <td>Import Price Index</td>\n",
       "    </tr>\n",
       "    <tr>\n",
       "      <th>CPI_M</th>\n",
       "      <td>ABS</td>\n",
       "      <td>1.2.0</td>\n",
       "      <td>true</td>\n",
       "      <td>Monthly Consumer Price Index (CPI) indicator</td>\n",
       "    </tr>\n",
       "    <tr>\n",
       "      <th>PPI</th>\n",
       "      <td>ABS</td>\n",
       "      <td>1.1.3</td>\n",
       "      <td>true</td>\n",
       "      <td>Producer Price Indexes by Industry</td>\n",
       "    </tr>\n",
       "    <tr>\n",
       "      <th>PPI_FD</th>\n",
       "      <td>ABS</td>\n",
       "      <td>1.1.0</td>\n",
       "      <td>true</td>\n",
       "      <td>Producer Price Indexes, Final Demand</td>\n",
       "    </tr>\n",
       "    <tr>\n",
       "      <th>RPPI</th>\n",
       "      <td>ABS</td>\n",
       "      <td>1.0.0</td>\n",
       "      <td>true</td>\n",
       "      <td>Residential Property Price Index</td>\n",
       "    </tr>\n",
       "    <tr>\n",
       "      <th>WPI</th>\n",
       "      <td>ABS</td>\n",
       "      <td>1.2.0</td>\n",
       "      <td>true</td>\n",
       "      <td>Wage Price Index</td>\n",
       "    </tr>\n",
       "  </tbody>\n",
       "</table>\n",
       "</div>"
      ],
      "text/plain": [
       "            agencyID version isFinal  \\\n",
       "dataflows                              \n",
       "CPI              ABS   1.1.0    true   \n",
       "CPI_WEIGHTS      ABS   1.0.0    true   \n",
       "ITPI_EXP         ABS   1.0.0    true   \n",
       "ITPI_IMP         ABS   1.0.0    true   \n",
       "CPI_M            ABS   1.2.0    true   \n",
       "PPI              ABS   1.1.3    true   \n",
       "PPI_FD           ABS   1.1.0    true   \n",
       "RPPI             ABS   1.0.0    true   \n",
       "WPI              ABS   1.2.0    true   \n",
       "\n",
       "                                                     name  \n",
       "dataflows                                                  \n",
       "CPI                Consumer Price Index (CPI) 17th Series  \n",
       "CPI_WEIGHTS            Consumer Price Index (CPI) Weights  \n",
       "ITPI_EXP                               Export Price Index  \n",
       "ITPI_IMP                               Import Price Index  \n",
       "CPI_M        Monthly Consumer Price Index (CPI) indicator  \n",
       "PPI                    Producer Price Indexes by Industry  \n",
       "PPI_FD               Producer Price Indexes, Final Demand  \n",
       "RPPI                     Residential Property Price Index  \n",
       "WPI                                      Wage Price Index  "
      ]
     },
     "execution_count": 4,
     "metadata": {},
     "output_type": "execute_result"
    }
   ],
   "source": [
    "# And lets look for data flows that are a price index\n",
    "dflows[dflows.name.str.contains(\"Price Index\")].sort_values(\"name\").head(10)"
   ]
  },
  {
   "cell_type": "markdown",
   "metadata": {},
   "source": [
    "### Data dimensions"
   ]
  },
  {
   "cell_type": "code",
   "execution_count": 5,
   "metadata": {},
   "outputs": [
    {
     "data": {
      "application/vnd.microsoft.datawrangler.viewer.v0+json": {
       "columns": [
        {
         "name": "dimensions",
         "rawType": "object",
         "type": "string"
        },
        {
         "name": "position",
         "rawType": "object",
         "type": "string"
        },
        {
         "name": "id",
         "rawType": "object",
         "type": "string"
        },
        {
         "name": "version",
         "rawType": "object",
         "type": "string"
        },
        {
         "name": "agencyID",
         "rawType": "object",
         "type": "string"
        },
        {
         "name": "package",
         "rawType": "object",
         "type": "string"
        },
        {
         "name": "class",
         "rawType": "object",
         "type": "string"
        }
       ],
       "ref": "f85a30a9-494f-4c27-894a-4f4fbe9c13ff",
       "rows": [
        [
         "MEASURE",
         "1",
         "CL_ANA_MEASURE",
         "1.0.0",
         "ABS",
         "codelist",
         "Codelist"
        ],
        [
         "DATA_ITEM",
         "2",
         "CL_ANA_EXP_ITEMS",
         "0.0.3",
         "ABS",
         "codelist",
         "Codelist"
        ],
        [
         "SECTOR",
         "3",
         "CL_ANA_SECTOR",
         "1.0.0",
         "ABS",
         "codelist",
         "Codelist"
        ],
        [
         "TSEST",
         "4",
         "CL_TSEST",
         "1.0.0",
         "ABS",
         "codelist",
         "Codelist"
        ],
        [
         "REGION",
         "5",
         "CL_STATE",
         "1.0.0",
         "ABS",
         "codelist",
         "Codelist"
        ],
        [
         "FREQ",
         "6",
         "CL_FREQ",
         "1.0.0",
         "ABS",
         "codelist",
         "Codelist"
        ]
       ],
       "shape": {
        "columns": 6,
        "rows": 6
       }
      },
      "text/html": [
       "<div>\n",
       "<style scoped>\n",
       "    .dataframe tbody tr th:only-of-type {\n",
       "        vertical-align: middle;\n",
       "    }\n",
       "\n",
       "    .dataframe tbody tr th {\n",
       "        vertical-align: top;\n",
       "    }\n",
       "\n",
       "    .dataframe thead th {\n",
       "        text-align: right;\n",
       "    }\n",
       "</style>\n",
       "<table border=\"1\" class=\"dataframe\">\n",
       "  <thead>\n",
       "    <tr style=\"text-align: right;\">\n",
       "      <th></th>\n",
       "      <th>position</th>\n",
       "      <th>id</th>\n",
       "      <th>version</th>\n",
       "      <th>agencyID</th>\n",
       "      <th>package</th>\n",
       "      <th>class</th>\n",
       "    </tr>\n",
       "    <tr>\n",
       "      <th>dimensions</th>\n",
       "      <th></th>\n",
       "      <th></th>\n",
       "      <th></th>\n",
       "      <th></th>\n",
       "      <th></th>\n",
       "      <th></th>\n",
       "    </tr>\n",
       "  </thead>\n",
       "  <tbody>\n",
       "    <tr>\n",
       "      <th>MEASURE</th>\n",
       "      <td>1</td>\n",
       "      <td>CL_ANA_MEASURE</td>\n",
       "      <td>1.0.0</td>\n",
       "      <td>ABS</td>\n",
       "      <td>codelist</td>\n",
       "      <td>Codelist</td>\n",
       "    </tr>\n",
       "    <tr>\n",
       "      <th>DATA_ITEM</th>\n",
       "      <td>2</td>\n",
       "      <td>CL_ANA_EXP_ITEMS</td>\n",
       "      <td>0.0.3</td>\n",
       "      <td>ABS</td>\n",
       "      <td>codelist</td>\n",
       "      <td>Codelist</td>\n",
       "    </tr>\n",
       "    <tr>\n",
       "      <th>SECTOR</th>\n",
       "      <td>3</td>\n",
       "      <td>CL_ANA_SECTOR</td>\n",
       "      <td>1.0.0</td>\n",
       "      <td>ABS</td>\n",
       "      <td>codelist</td>\n",
       "      <td>Codelist</td>\n",
       "    </tr>\n",
       "    <tr>\n",
       "      <th>TSEST</th>\n",
       "      <td>4</td>\n",
       "      <td>CL_TSEST</td>\n",
       "      <td>1.0.0</td>\n",
       "      <td>ABS</td>\n",
       "      <td>codelist</td>\n",
       "      <td>Codelist</td>\n",
       "    </tr>\n",
       "    <tr>\n",
       "      <th>REGION</th>\n",
       "      <td>5</td>\n",
       "      <td>CL_STATE</td>\n",
       "      <td>1.0.0</td>\n",
       "      <td>ABS</td>\n",
       "      <td>codelist</td>\n",
       "      <td>Codelist</td>\n",
       "    </tr>\n",
       "    <tr>\n",
       "      <th>FREQ</th>\n",
       "      <td>6</td>\n",
       "      <td>CL_FREQ</td>\n",
       "      <td>1.0.0</td>\n",
       "      <td>ABS</td>\n",
       "      <td>codelist</td>\n",
       "      <td>Codelist</td>\n",
       "    </tr>\n",
       "  </tbody>\n",
       "</table>\n",
       "</div>"
      ],
      "text/plain": [
       "           position                id version agencyID   package     class\n",
       "dimensions                                                                \n",
       "MEASURE           1    CL_ANA_MEASURE   1.0.0      ABS  codelist  Codelist\n",
       "DATA_ITEM         2  CL_ANA_EXP_ITEMS   0.0.3      ABS  codelist  Codelist\n",
       "SECTOR            3     CL_ANA_SECTOR   1.0.0      ABS  codelist  Codelist\n",
       "TSEST             4          CL_TSEST   1.0.0      ABS  codelist  Codelist\n",
       "REGION            5          CL_STATE   1.0.0      ABS  codelist  Codelist\n",
       "FREQ              6           CL_FREQ   1.0.0      ABS  codelist  Codelist"
      ]
     },
     "execution_count": 5,
     "metadata": {},
     "output_type": "execute_result"
    }
   ],
   "source": [
    "# check out the data dimensions for the Expenditure GDP data\n",
    "sa.data_dimensions(\"ANA_EXP\")"
   ]
  },
  {
   "cell_type": "code",
   "execution_count": 6,
   "metadata": {},
   "outputs": [
    {
     "data": {
      "application/vnd.microsoft.datawrangler.viewer.v0+json": {
       "columns": [
        {
         "name": "dimensions",
         "rawType": "object",
         "type": "string"
        },
        {
         "name": "position",
         "rawType": "object",
         "type": "string"
        },
        {
         "name": "id",
         "rawType": "object",
         "type": "string"
        },
        {
         "name": "version",
         "rawType": "object",
         "type": "string"
        },
        {
         "name": "agencyID",
         "rawType": "object",
         "type": "string"
        },
        {
         "name": "package",
         "rawType": "object",
         "type": "string"
        },
        {
         "name": "class",
         "rawType": "object",
         "type": "string"
        }
       ],
       "ref": "70f60246-6aba-42dc-9cb2-a5026c6e3ecc",
       "rows": [
        [
         "MEASURE",
         "1",
         "CL_CPI_MEASURES",
         "1.0.0",
         "ABS",
         "codelist",
         "Codelist"
        ],
        [
         "INDEX",
         "2",
         "CL_CPI_INDEX_17",
         "1.1.0",
         "ABS",
         "codelist",
         "Codelist"
        ],
        [
         "TSEST",
         "3",
         "CL_TSEST",
         "1.0.0",
         "ABS",
         "codelist",
         "Codelist"
        ],
        [
         "REGION",
         "4",
         "CL_CPI_REGION",
         "1.0.0",
         "ABS",
         "codelist",
         "Codelist"
        ],
        [
         "FREQ",
         "5",
         "CL_FREQ",
         "1.0.0",
         "ABS",
         "codelist",
         "Codelist"
        ]
       ],
       "shape": {
        "columns": 6,
        "rows": 5
       }
      },
      "text/html": [
       "<div>\n",
       "<style scoped>\n",
       "    .dataframe tbody tr th:only-of-type {\n",
       "        vertical-align: middle;\n",
       "    }\n",
       "\n",
       "    .dataframe tbody tr th {\n",
       "        vertical-align: top;\n",
       "    }\n",
       "\n",
       "    .dataframe thead th {\n",
       "        text-align: right;\n",
       "    }\n",
       "</style>\n",
       "<table border=\"1\" class=\"dataframe\">\n",
       "  <thead>\n",
       "    <tr style=\"text-align: right;\">\n",
       "      <th></th>\n",
       "      <th>position</th>\n",
       "      <th>id</th>\n",
       "      <th>version</th>\n",
       "      <th>agencyID</th>\n",
       "      <th>package</th>\n",
       "      <th>class</th>\n",
       "    </tr>\n",
       "    <tr>\n",
       "      <th>dimensions</th>\n",
       "      <th></th>\n",
       "      <th></th>\n",
       "      <th></th>\n",
       "      <th></th>\n",
       "      <th></th>\n",
       "      <th></th>\n",
       "    </tr>\n",
       "  </thead>\n",
       "  <tbody>\n",
       "    <tr>\n",
       "      <th>MEASURE</th>\n",
       "      <td>1</td>\n",
       "      <td>CL_CPI_MEASURES</td>\n",
       "      <td>1.0.0</td>\n",
       "      <td>ABS</td>\n",
       "      <td>codelist</td>\n",
       "      <td>Codelist</td>\n",
       "    </tr>\n",
       "    <tr>\n",
       "      <th>INDEX</th>\n",
       "      <td>2</td>\n",
       "      <td>CL_CPI_INDEX_17</td>\n",
       "      <td>1.1.0</td>\n",
       "      <td>ABS</td>\n",
       "      <td>codelist</td>\n",
       "      <td>Codelist</td>\n",
       "    </tr>\n",
       "    <tr>\n",
       "      <th>TSEST</th>\n",
       "      <td>3</td>\n",
       "      <td>CL_TSEST</td>\n",
       "      <td>1.0.0</td>\n",
       "      <td>ABS</td>\n",
       "      <td>codelist</td>\n",
       "      <td>Codelist</td>\n",
       "    </tr>\n",
       "    <tr>\n",
       "      <th>REGION</th>\n",
       "      <td>4</td>\n",
       "      <td>CL_CPI_REGION</td>\n",
       "      <td>1.0.0</td>\n",
       "      <td>ABS</td>\n",
       "      <td>codelist</td>\n",
       "      <td>Codelist</td>\n",
       "    </tr>\n",
       "    <tr>\n",
       "      <th>FREQ</th>\n",
       "      <td>5</td>\n",
       "      <td>CL_FREQ</td>\n",
       "      <td>1.0.0</td>\n",
       "      <td>ABS</td>\n",
       "      <td>codelist</td>\n",
       "      <td>Codelist</td>\n",
       "    </tr>\n",
       "  </tbody>\n",
       "</table>\n",
       "</div>"
      ],
      "text/plain": [
       "           position               id version agencyID   package     class\n",
       "dimensions                                                               \n",
       "MEASURE           1  CL_CPI_MEASURES   1.0.0      ABS  codelist  Codelist\n",
       "INDEX             2  CL_CPI_INDEX_17   1.1.0      ABS  codelist  Codelist\n",
       "TSEST             3         CL_TSEST   1.0.0      ABS  codelist  Codelist\n",
       "REGION            4    CL_CPI_REGION   1.0.0      ABS  codelist  Codelist\n",
       "FREQ              5          CL_FREQ   1.0.0      ABS  codelist  Codelist"
      ]
     },
     "execution_count": 6,
     "metadata": {},
     "output_type": "execute_result"
    }
   ],
   "source": [
    "# The dimensions for the Consumer Price Index data are different,\n",
    "# and draw on different code lists for some dimensions.\n",
    "sa.data_dimensions(\"CPI\")"
   ]
  },
  {
   "cell_type": "markdown",
   "metadata": {},
   "source": [
    "### Code lists"
   ]
  },
  {
   "cell_type": "code",
   "execution_count": 7,
   "metadata": {},
   "outputs": [
    {
     "data": {
      "application/vnd.microsoft.datawrangler.viewer.v0+json": {
       "columns": [
        {
         "name": "CL_ANA_SECTOR",
         "rawType": "object",
         "type": "string"
        },
        {
         "name": "name",
         "rawType": "object",
         "type": "string"
        }
       ],
       "ref": "6ac441a6-dfe4-4883-b5bc-f54b470cdae4",
       "rows": [
        [
         "GEC",
         "Public corporations - Commonwealth"
        ],
        [
         "GES",
         "Public corporations"
        ],
        [
         "GES_SL",
         "Public corporations - State and local"
        ],
        [
         "GFS",
         "Public financial corporations"
        ],
        [
         "GGC",
         "General government - National"
        ],
        [
         "GGD",
         "General government - National - Defence"
        ],
        [
         "GGM",
         "General government - Multijurisdictional"
        ],
        [
         "GGS",
         "General government"
        ],
        [
         "GGS_SL",
         "General government - State and local"
        ],
        [
         "GGW",
         "General government - Commonwealth - Non-defence"
        ],
        [
         "GGX",
         "General government - National - Non-defence"
        ],
        [
         "GKS",
         "Public non-financial corporations"
        ],
        [
         "GNS",
         "Public authorities"
        ],
        [
         "GSC",
         "Public - Commonwealth"
        ],
        [
         "GSS",
         "Public"
        ],
        [
         "GSS_SL",
         "Public - State and local"
        ],
        [
         "GTS",
         "Public non-financial corporations"
        ],
        [
         "MSS",
         "Market Sector"
        ],
        [
         "NFS",
         "Non-financial corporations"
        ],
        [
         "OSS",
         "Other sectors"
        ],
        [
         "PHD",
         "Dwellings owned by persons"
        ],
        [
         "PHS",
         "Households"
        ],
        [
         "PIS",
         "Total dividends"
        ],
        [
         "PKS",
         "Public non-financial corporations"
        ],
        [
         "PSS",
         "Private"
        ],
        [
         "PTS",
         "Private non-financial corporations"
        ],
        [
         "SEC",
         "Resident corporations"
        ],
        [
         "SES",
         "Other sectors"
        ],
        [
         "SFS",
         "Financial corporations"
        ],
        [
         "SKS",
         "Non-financial corporations"
        ],
        [
         "SOC",
         "Non-residents"
        ],
        [
         "SOS",
         "Non-residents"
        ],
        [
         "SSD",
         "Ownership of dwellings"
        ],
        [
         "SSS",
         "All sectors"
        ],
        [
         "TCS",
         "Total corporations"
        ]
       ],
       "shape": {
        "columns": 1,
        "rows": 35
       }
      },
      "text/html": [
       "<div>\n",
       "<style scoped>\n",
       "    .dataframe tbody tr th:only-of-type {\n",
       "        vertical-align: middle;\n",
       "    }\n",
       "\n",
       "    .dataframe tbody tr th {\n",
       "        vertical-align: top;\n",
       "    }\n",
       "\n",
       "    .dataframe thead th {\n",
       "        text-align: right;\n",
       "    }\n",
       "</style>\n",
       "<table border=\"1\" class=\"dataframe\">\n",
       "  <thead>\n",
       "    <tr style=\"text-align: right;\">\n",
       "      <th></th>\n",
       "      <th>name</th>\n",
       "    </tr>\n",
       "    <tr>\n",
       "      <th>CL_ANA_SECTOR</th>\n",
       "      <th></th>\n",
       "    </tr>\n",
       "  </thead>\n",
       "  <tbody>\n",
       "    <tr>\n",
       "      <th>GEC</th>\n",
       "      <td>Public corporations - Commonwealth</td>\n",
       "    </tr>\n",
       "    <tr>\n",
       "      <th>GES</th>\n",
       "      <td>Public corporations</td>\n",
       "    </tr>\n",
       "    <tr>\n",
       "      <th>GES_SL</th>\n",
       "      <td>Public corporations - State and local</td>\n",
       "    </tr>\n",
       "    <tr>\n",
       "      <th>GFS</th>\n",
       "      <td>Public financial corporations</td>\n",
       "    </tr>\n",
       "    <tr>\n",
       "      <th>GGC</th>\n",
       "      <td>General government - National</td>\n",
       "    </tr>\n",
       "    <tr>\n",
       "      <th>GGD</th>\n",
       "      <td>General government - National - Defence</td>\n",
       "    </tr>\n",
       "    <tr>\n",
       "      <th>GGM</th>\n",
       "      <td>General government - Multijurisdictional</td>\n",
       "    </tr>\n",
       "    <tr>\n",
       "      <th>GGS</th>\n",
       "      <td>General government</td>\n",
       "    </tr>\n",
       "    <tr>\n",
       "      <th>GGS_SL</th>\n",
       "      <td>General government - State and local</td>\n",
       "    </tr>\n",
       "    <tr>\n",
       "      <th>GGW</th>\n",
       "      <td>General government - Commonwealth - Non-defence</td>\n",
       "    </tr>\n",
       "    <tr>\n",
       "      <th>GGX</th>\n",
       "      <td>General government - National - Non-defence</td>\n",
       "    </tr>\n",
       "    <tr>\n",
       "      <th>GKS</th>\n",
       "      <td>Public non-financial corporations</td>\n",
       "    </tr>\n",
       "    <tr>\n",
       "      <th>GNS</th>\n",
       "      <td>Public authorities</td>\n",
       "    </tr>\n",
       "    <tr>\n",
       "      <th>GSC</th>\n",
       "      <td>Public - Commonwealth</td>\n",
       "    </tr>\n",
       "    <tr>\n",
       "      <th>GSS</th>\n",
       "      <td>Public</td>\n",
       "    </tr>\n",
       "    <tr>\n",
       "      <th>GSS_SL</th>\n",
       "      <td>Public - State and local</td>\n",
       "    </tr>\n",
       "    <tr>\n",
       "      <th>GTS</th>\n",
       "      <td>Public non-financial corporations</td>\n",
       "    </tr>\n",
       "    <tr>\n",
       "      <th>MSS</th>\n",
       "      <td>Market Sector</td>\n",
       "    </tr>\n",
       "    <tr>\n",
       "      <th>NFS</th>\n",
       "      <td>Non-financial corporations</td>\n",
       "    </tr>\n",
       "    <tr>\n",
       "      <th>OSS</th>\n",
       "      <td>Other sectors</td>\n",
       "    </tr>\n",
       "    <tr>\n",
       "      <th>PHD</th>\n",
       "      <td>Dwellings owned by persons</td>\n",
       "    </tr>\n",
       "    <tr>\n",
       "      <th>PHS</th>\n",
       "      <td>Households</td>\n",
       "    </tr>\n",
       "    <tr>\n",
       "      <th>PIS</th>\n",
       "      <td>Total dividends</td>\n",
       "    </tr>\n",
       "    <tr>\n",
       "      <th>PKS</th>\n",
       "      <td>Public non-financial corporations</td>\n",
       "    </tr>\n",
       "    <tr>\n",
       "      <th>PSS</th>\n",
       "      <td>Private</td>\n",
       "    </tr>\n",
       "    <tr>\n",
       "      <th>PTS</th>\n",
       "      <td>Private non-financial corporations</td>\n",
       "    </tr>\n",
       "    <tr>\n",
       "      <th>SEC</th>\n",
       "      <td>Resident corporations</td>\n",
       "    </tr>\n",
       "    <tr>\n",
       "      <th>SES</th>\n",
       "      <td>Other sectors</td>\n",
       "    </tr>\n",
       "    <tr>\n",
       "      <th>SFS</th>\n",
       "      <td>Financial corporations</td>\n",
       "    </tr>\n",
       "    <tr>\n",
       "      <th>SKS</th>\n",
       "      <td>Non-financial corporations</td>\n",
       "    </tr>\n",
       "    <tr>\n",
       "      <th>SOC</th>\n",
       "      <td>Non-residents</td>\n",
       "    </tr>\n",
       "    <tr>\n",
       "      <th>SOS</th>\n",
       "      <td>Non-residents</td>\n",
       "    </tr>\n",
       "    <tr>\n",
       "      <th>SSD</th>\n",
       "      <td>Ownership of dwellings</td>\n",
       "    </tr>\n",
       "    <tr>\n",
       "      <th>SSS</th>\n",
       "      <td>All sectors</td>\n",
       "    </tr>\n",
       "    <tr>\n",
       "      <th>TCS</th>\n",
       "      <td>Total corporations</td>\n",
       "    </tr>\n",
       "  </tbody>\n",
       "</table>\n",
       "</div>"
      ],
      "text/plain": [
       "                                                          name\n",
       "CL_ANA_SECTOR                                                 \n",
       "GEC                         Public corporations - Commonwealth\n",
       "GES                                        Public corporations\n",
       "GES_SL                   Public corporations - State and local\n",
       "GFS                              Public financial corporations\n",
       "GGC                              General government - National\n",
       "GGD                    General government - National - Defence\n",
       "GGM                   General government - Multijurisdictional\n",
       "GGS                                         General government\n",
       "GGS_SL                    General government - State and local\n",
       "GGW            General government - Commonwealth - Non-defence\n",
       "GGX                General government - National - Non-defence\n",
       "GKS                          Public non-financial corporations\n",
       "GNS                                         Public authorities\n",
       "GSC                                      Public - Commonwealth\n",
       "GSS                                                     Public\n",
       "GSS_SL                                Public - State and local\n",
       "GTS                          Public non-financial corporations\n",
       "MSS                                              Market Sector\n",
       "NFS                                 Non-financial corporations\n",
       "OSS                                              Other sectors\n",
       "PHD                                 Dwellings owned by persons\n",
       "PHS                                                 Households\n",
       "PIS                                            Total dividends\n",
       "PKS                          Public non-financial corporations\n",
       "PSS                                                    Private\n",
       "PTS                         Private non-financial corporations\n",
       "SEC                                      Resident corporations\n",
       "SES                                              Other sectors\n",
       "SFS                                     Financial corporations\n",
       "SKS                                 Non-financial corporations\n",
       "SOC                                              Non-residents\n",
       "SOS                                              Non-residents\n",
       "SSD                                     Ownership of dwellings\n",
       "SSS                                                All sectors\n",
       "TCS                                         Total corporations"
      ]
     },
     "execution_count": 7,
     "metadata": {},
     "output_type": "execute_result"
    }
   ],
   "source": [
    "# check out a specific code list for the Expenditure GDP data\n",
    "sa.code_lists(\"CL_ANA_SECTOR\")"
   ]
  },
  {
   "cell_type": "code",
   "execution_count": 8,
   "metadata": {},
   "outputs": [
    {
     "data": {
      "application/vnd.microsoft.datawrangler.viewer.v0+json": {
       "columns": [
        {
         "name": "CL_ANA_MEASURE",
         "rawType": "object",
         "type": "string"
        },
        {
         "name": "name",
         "rawType": "object",
         "type": "string"
        }
       ],
       "ref": "09d0b6a7-890d-48f8-b149-a2ec441e5211",
       "rows": [
        [
         "C",
         "Current prices"
        ],
        [
         "DCH",
         "Implicit price deflators"
        ],
        [
         "FCH",
         "Chain price indexes"
        ],
        [
         "ICH",
         "Index"
        ],
        [
         "PCT_C",
         "Current prices - Percentage Changes"
        ],
        [
         "PCT_DCH",
         "Implicit price deflators - Percentage changes"
        ],
        [
         "PCT_FCH",
         "Chain price indexes - Percentage Changes"
        ],
        [
         "PCT_ICH",
         "Index - Percentage changes"
        ],
        [
         "PCT_RC",
         "Current prices - Revisions to Percentage Changes"
        ],
        [
         "PCT_RCH",
         "Chain Volume Measures - Revisions to Percentage Changes"
        ],
        [
         "PCT_VCH",
         "Chain volume measures - Percentage changes"
        ],
        [
         "R",
         "Ratio"
        ],
        [
         "RC",
         "Current Prices - Revisions"
        ],
        [
         "TC",
         "Contributions to Growth"
        ],
        [
         "TCH",
         "Contributions to Growth  - Chain volume measures"
        ],
        [
         "VCH",
         "Chain volume measures"
        ]
       ],
       "shape": {
        "columns": 1,
        "rows": 16
       }
      },
      "text/html": [
       "<div>\n",
       "<style scoped>\n",
       "    .dataframe tbody tr th:only-of-type {\n",
       "        vertical-align: middle;\n",
       "    }\n",
       "\n",
       "    .dataframe tbody tr th {\n",
       "        vertical-align: top;\n",
       "    }\n",
       "\n",
       "    .dataframe thead th {\n",
       "        text-align: right;\n",
       "    }\n",
       "</style>\n",
       "<table border=\"1\" class=\"dataframe\">\n",
       "  <thead>\n",
       "    <tr style=\"text-align: right;\">\n",
       "      <th></th>\n",
       "      <th>name</th>\n",
       "    </tr>\n",
       "    <tr>\n",
       "      <th>CL_ANA_MEASURE</th>\n",
       "      <th></th>\n",
       "    </tr>\n",
       "  </thead>\n",
       "  <tbody>\n",
       "    <tr>\n",
       "      <th>C</th>\n",
       "      <td>Current prices</td>\n",
       "    </tr>\n",
       "    <tr>\n",
       "      <th>DCH</th>\n",
       "      <td>Implicit price deflators</td>\n",
       "    </tr>\n",
       "    <tr>\n",
       "      <th>FCH</th>\n",
       "      <td>Chain price indexes</td>\n",
       "    </tr>\n",
       "    <tr>\n",
       "      <th>ICH</th>\n",
       "      <td>Index</td>\n",
       "    </tr>\n",
       "    <tr>\n",
       "      <th>PCT_C</th>\n",
       "      <td>Current prices - Percentage Changes</td>\n",
       "    </tr>\n",
       "    <tr>\n",
       "      <th>PCT_DCH</th>\n",
       "      <td>Implicit price deflators - Percentage changes</td>\n",
       "    </tr>\n",
       "    <tr>\n",
       "      <th>PCT_FCH</th>\n",
       "      <td>Chain price indexes - Percentage Changes</td>\n",
       "    </tr>\n",
       "    <tr>\n",
       "      <th>PCT_ICH</th>\n",
       "      <td>Index - Percentage changes</td>\n",
       "    </tr>\n",
       "    <tr>\n",
       "      <th>PCT_RC</th>\n",
       "      <td>Current prices - Revisions to Percentage Changes</td>\n",
       "    </tr>\n",
       "    <tr>\n",
       "      <th>PCT_RCH</th>\n",
       "      <td>Chain Volume Measures - Revisions to Percentag...</td>\n",
       "    </tr>\n",
       "    <tr>\n",
       "      <th>PCT_VCH</th>\n",
       "      <td>Chain volume measures - Percentage changes</td>\n",
       "    </tr>\n",
       "    <tr>\n",
       "      <th>R</th>\n",
       "      <td>Ratio</td>\n",
       "    </tr>\n",
       "    <tr>\n",
       "      <th>RC</th>\n",
       "      <td>Current Prices - Revisions</td>\n",
       "    </tr>\n",
       "    <tr>\n",
       "      <th>TC</th>\n",
       "      <td>Contributions to Growth</td>\n",
       "    </tr>\n",
       "    <tr>\n",
       "      <th>TCH</th>\n",
       "      <td>Contributions to Growth  - Chain volume measures</td>\n",
       "    </tr>\n",
       "    <tr>\n",
       "      <th>VCH</th>\n",
       "      <td>Chain volume measures</td>\n",
       "    </tr>\n",
       "  </tbody>\n",
       "</table>\n",
       "</div>"
      ],
      "text/plain": [
       "                                                             name\n",
       "CL_ANA_MEASURE                                                   \n",
       "C                                                  Current prices\n",
       "DCH                                      Implicit price deflators\n",
       "FCH                                           Chain price indexes\n",
       "ICH                                                         Index\n",
       "PCT_C                         Current prices - Percentage Changes\n",
       "PCT_DCH             Implicit price deflators - Percentage changes\n",
       "PCT_FCH                  Chain price indexes - Percentage Changes\n",
       "PCT_ICH                                Index - Percentage changes\n",
       "PCT_RC           Current prices - Revisions to Percentage Changes\n",
       "PCT_RCH         Chain Volume Measures - Revisions to Percentag...\n",
       "PCT_VCH                Chain volume measures - Percentage changes\n",
       "R                                                           Ratio\n",
       "RC                                     Current Prices - Revisions\n",
       "TC                                        Contributions to Growth\n",
       "TCH              Contributions to Growth  - Chain volume measures\n",
       "VCH                                         Chain volume measures"
      ]
     },
     "execution_count": 8,
     "metadata": {},
     "output_type": "execute_result"
    }
   ],
   "source": [
    "# check out a specific code list for the Expenditure GDP data\n",
    "sa.code_lists(\"CL_ANA_MEASURE\")"
   ]
  },
  {
   "cell_type": "code",
   "execution_count": 9,
   "metadata": {},
   "outputs": [
    {
     "data": {
      "application/vnd.microsoft.datawrangler.viewer.v0+json": {
       "columns": [
        {
         "name": "CL_STATE",
         "rawType": "object",
         "type": "string"
        },
        {
         "name": "name",
         "rawType": "object",
         "type": "string"
        },
        {
         "name": "parent",
         "rawType": "object",
         "type": "unknown"
        }
       ],
       "ref": "2472c024-6411-4d5f-b973-b428ef4370c3",
       "rows": [
        [
         "1",
         "New South Wales",
         "AUS"
        ],
        [
         "2",
         "Victoria",
         "AUS"
        ],
        [
         "3",
         "Queensland",
         "AUS"
        ],
        [
         "4",
         "South Australia",
         "AUS"
        ],
        [
         "5",
         "Western Australia",
         "AUS"
        ],
        [
         "6",
         "Tasmania",
         "AUS"
        ],
        [
         "7",
         "Northern Territory",
         "AUS"
        ],
        [
         "8",
         "Australian Capital Territory",
         "AUS"
        ],
        [
         "9",
         "Other Territories",
         "AUS"
        ],
        [
         "AUS",
         "Australia",
         null
        ]
       ],
       "shape": {
        "columns": 2,
        "rows": 10
       }
      },
      "text/html": [
       "<div>\n",
       "<style scoped>\n",
       "    .dataframe tbody tr th:only-of-type {\n",
       "        vertical-align: middle;\n",
       "    }\n",
       "\n",
       "    .dataframe tbody tr th {\n",
       "        vertical-align: top;\n",
       "    }\n",
       "\n",
       "    .dataframe thead th {\n",
       "        text-align: right;\n",
       "    }\n",
       "</style>\n",
       "<table border=\"1\" class=\"dataframe\">\n",
       "  <thead>\n",
       "    <tr style=\"text-align: right;\">\n",
       "      <th></th>\n",
       "      <th>name</th>\n",
       "      <th>parent</th>\n",
       "    </tr>\n",
       "    <tr>\n",
       "      <th>CL_STATE</th>\n",
       "      <th></th>\n",
       "      <th></th>\n",
       "    </tr>\n",
       "  </thead>\n",
       "  <tbody>\n",
       "    <tr>\n",
       "      <th>1</th>\n",
       "      <td>New South Wales</td>\n",
       "      <td>AUS</td>\n",
       "    </tr>\n",
       "    <tr>\n",
       "      <th>2</th>\n",
       "      <td>Victoria</td>\n",
       "      <td>AUS</td>\n",
       "    </tr>\n",
       "    <tr>\n",
       "      <th>3</th>\n",
       "      <td>Queensland</td>\n",
       "      <td>AUS</td>\n",
       "    </tr>\n",
       "    <tr>\n",
       "      <th>4</th>\n",
       "      <td>South Australia</td>\n",
       "      <td>AUS</td>\n",
       "    </tr>\n",
       "    <tr>\n",
       "      <th>5</th>\n",
       "      <td>Western Australia</td>\n",
       "      <td>AUS</td>\n",
       "    </tr>\n",
       "    <tr>\n",
       "      <th>6</th>\n",
       "      <td>Tasmania</td>\n",
       "      <td>AUS</td>\n",
       "    </tr>\n",
       "    <tr>\n",
       "      <th>7</th>\n",
       "      <td>Northern Territory</td>\n",
       "      <td>AUS</td>\n",
       "    </tr>\n",
       "    <tr>\n",
       "      <th>8</th>\n",
       "      <td>Australian Capital Territory</td>\n",
       "      <td>AUS</td>\n",
       "    </tr>\n",
       "    <tr>\n",
       "      <th>9</th>\n",
       "      <td>Other Territories</td>\n",
       "      <td>AUS</td>\n",
       "    </tr>\n",
       "    <tr>\n",
       "      <th>AUS</th>\n",
       "      <td>Australia</td>\n",
       "      <td>NaN</td>\n",
       "    </tr>\n",
       "  </tbody>\n",
       "</table>\n",
       "</div>"
      ],
      "text/plain": [
       "                                  name parent\n",
       "CL_STATE                                     \n",
       "1                      New South Wales    AUS\n",
       "2                             Victoria    AUS\n",
       "3                           Queensland    AUS\n",
       "4                      South Australia    AUS\n",
       "5                    Western Australia    AUS\n",
       "6                             Tasmania    AUS\n",
       "7                   Northern Territory    AUS\n",
       "8         Australian Capital Territory    AUS\n",
       "9                    Other Territories    AUS\n",
       "AUS                          Australia    NaN"
      ]
     },
     "execution_count": 9,
     "metadata": {},
     "output_type": "execute_result"
    }
   ],
   "source": [
    "# check out a specific code list for the Expenditure GDP data\n",
    "sa.code_lists(\"CL_STATE\")"
   ]
  },
  {
   "cell_type": "code",
   "execution_count": 10,
   "metadata": {},
   "outputs": [
    {
     "data": {
      "application/vnd.microsoft.datawrangler.viewer.v0+json": {
       "columns": [
        {
         "name": "CL_CPI_REGION",
         "rawType": "object",
         "type": "string"
        },
        {
         "name": "name",
         "rawType": "object",
         "type": "string"
        },
        {
         "name": "parent",
         "rawType": "object",
         "type": "unknown"
        }
       ],
       "ref": "e27ecdbf-54e6-4cea-a83f-b2aefcec146c",
       "rows": [
        [
         "1",
         "Sydney",
         "50"
        ],
        [
         "2",
         "Melbourne",
         "50"
        ],
        [
         "3",
         "Brisbane",
         "50"
        ],
        [
         "4",
         "Adelaide",
         "50"
        ],
        [
         "5",
         "Perth",
         "50"
        ],
        [
         "50",
         "Weighted average of eight capital cities",
         null
        ],
        [
         "6",
         "Hobart",
         "50"
        ],
        [
         "7",
         "Darwin",
         "50"
        ],
        [
         "8",
         "Canberra",
         "50"
        ]
       ],
       "shape": {
        "columns": 2,
        "rows": 9
       }
      },
      "text/html": [
       "<div>\n",
       "<style scoped>\n",
       "    .dataframe tbody tr th:only-of-type {\n",
       "        vertical-align: middle;\n",
       "    }\n",
       "\n",
       "    .dataframe tbody tr th {\n",
       "        vertical-align: top;\n",
       "    }\n",
       "\n",
       "    .dataframe thead th {\n",
       "        text-align: right;\n",
       "    }\n",
       "</style>\n",
       "<table border=\"1\" class=\"dataframe\">\n",
       "  <thead>\n",
       "    <tr style=\"text-align: right;\">\n",
       "      <th></th>\n",
       "      <th>name</th>\n",
       "      <th>parent</th>\n",
       "    </tr>\n",
       "    <tr>\n",
       "      <th>CL_CPI_REGION</th>\n",
       "      <th></th>\n",
       "      <th></th>\n",
       "    </tr>\n",
       "  </thead>\n",
       "  <tbody>\n",
       "    <tr>\n",
       "      <th>1</th>\n",
       "      <td>Sydney</td>\n",
       "      <td>50</td>\n",
       "    </tr>\n",
       "    <tr>\n",
       "      <th>2</th>\n",
       "      <td>Melbourne</td>\n",
       "      <td>50</td>\n",
       "    </tr>\n",
       "    <tr>\n",
       "      <th>3</th>\n",
       "      <td>Brisbane</td>\n",
       "      <td>50</td>\n",
       "    </tr>\n",
       "    <tr>\n",
       "      <th>4</th>\n",
       "      <td>Adelaide</td>\n",
       "      <td>50</td>\n",
       "    </tr>\n",
       "    <tr>\n",
       "      <th>5</th>\n",
       "      <td>Perth</td>\n",
       "      <td>50</td>\n",
       "    </tr>\n",
       "    <tr>\n",
       "      <th>50</th>\n",
       "      <td>Weighted average of eight capital cities</td>\n",
       "      <td>NaN</td>\n",
       "    </tr>\n",
       "    <tr>\n",
       "      <th>6</th>\n",
       "      <td>Hobart</td>\n",
       "      <td>50</td>\n",
       "    </tr>\n",
       "    <tr>\n",
       "      <th>7</th>\n",
       "      <td>Darwin</td>\n",
       "      <td>50</td>\n",
       "    </tr>\n",
       "    <tr>\n",
       "      <th>8</th>\n",
       "      <td>Canberra</td>\n",
       "      <td>50</td>\n",
       "    </tr>\n",
       "  </tbody>\n",
       "</table>\n",
       "</div>"
      ],
      "text/plain": [
       "                                                   name parent\n",
       "CL_CPI_REGION                                                 \n",
       "1                                                Sydney     50\n",
       "2                                             Melbourne     50\n",
       "3                                              Brisbane     50\n",
       "4                                              Adelaide     50\n",
       "5                                                 Perth     50\n",
       "50             Weighted average of eight capital cities    NaN\n",
       "6                                                Hobart     50\n",
       "7                                                Darwin     50\n",
       "8                                              Canberra     50"
      ]
     },
     "execution_count": 10,
     "metadata": {},
     "output_type": "execute_result"
    }
   ],
   "source": [
    "sa.code_lists(\"CL_CPI_REGION\")"
   ]
  },
  {
   "cell_type": "markdown",
   "metadata": {},
   "source": [
    "### A quick extraction to look at metadata"
   ]
  },
  {
   "cell_type": "code",
   "execution_count": 11,
   "metadata": {},
   "outputs": [
    {
     "name": "stdout",
     "output_type": "stream",
     "text": [
      "Unspecified dimensions for ANA_EXP: ['SECTOR', 'FREQ'] (will global match)\n"
     ]
    },
    {
     "data": {
      "application/vnd.microsoft.datawrangler.viewer.v0+json": {
       "columns": [
        {
         "name": "index",
         "rawType": "object",
         "type": "string"
        },
        {
         "name": "MEASURE",
         "rawType": "object",
         "type": "string"
        },
        {
         "name": "DATA_ITEM",
         "rawType": "object",
         "type": "string"
        },
        {
         "name": "SECTOR",
         "rawType": "object",
         "type": "string"
        },
        {
         "name": "TSEST",
         "rawType": "object",
         "type": "string"
        },
        {
         "name": "REGION",
         "rawType": "object",
         "type": "string"
        },
        {
         "name": "FREQ",
         "rawType": "object",
         "type": "string"
        },
        {
         "name": "UNIT_MEASURE",
         "rawType": "object",
         "type": "string"
        },
        {
         "name": "UNIT_MULT",
         "rawType": "object",
         "type": "string"
        }
       ],
       "ref": "766ee328-2e0e-440a-b9ec-e2e64b321b87",
       "rows": [
        [
         "DCH.FCE.PHS.20.AUS.Q.IN.0",
         "Implicit price deflators",
         "Final consumption expenditure",
         "Households",
         "Seasonally Adjusted",
         "Australia",
         "Quarterly",
         "IN",
         "0"
        ],
        [
         "DCH.FCE.GGC.20.AUS.Q.IN.0",
         "Implicit price deflators",
         "Final consumption expenditure",
         "General government - National",
         "Seasonally Adjusted",
         "Australia",
         "Quarterly",
         "IN",
         "0"
        ],
        [
         "DCH.FCE.SSS.20.AUS.Q.IN.0",
         "Implicit price deflators",
         "Final consumption expenditure",
         "All sectors",
         "Seasonally Adjusted",
         "Australia",
         "Quarterly",
         "IN",
         "0"
        ],
        [
         "DCH.FCE.GGS_SL.20.AUS.Q.IN.0",
         "Implicit price deflators",
         "Final consumption expenditure",
         "General government - State and local",
         "Seasonally Adjusted",
         "Australia",
         "Quarterly",
         "IN",
         "0"
        ],
        [
         "DCH.FCE.GGS.20.AUS.Q.IN.0",
         "Implicit price deflators",
         "Final consumption expenditure",
         "General government",
         "Seasonally Adjusted",
         "Australia",
         "Quarterly",
         "IN",
         "0"
        ]
       ],
       "shape": {
        "columns": 8,
        "rows": 5
       }
      },
      "text/html": [
       "<div>\n",
       "<style scoped>\n",
       "    .dataframe tbody tr th:only-of-type {\n",
       "        vertical-align: middle;\n",
       "    }\n",
       "\n",
       "    .dataframe tbody tr th {\n",
       "        vertical-align: top;\n",
       "    }\n",
       "\n",
       "    .dataframe thead th {\n",
       "        text-align: right;\n",
       "    }\n",
       "</style>\n",
       "<table border=\"1\" class=\"dataframe\">\n",
       "  <thead>\n",
       "    <tr style=\"text-align: right;\">\n",
       "      <th></th>\n",
       "      <th>MEASURE</th>\n",
       "      <th>DATA_ITEM</th>\n",
       "      <th>SECTOR</th>\n",
       "      <th>TSEST</th>\n",
       "      <th>REGION</th>\n",
       "      <th>FREQ</th>\n",
       "      <th>UNIT_MEASURE</th>\n",
       "      <th>UNIT_MULT</th>\n",
       "    </tr>\n",
       "  </thead>\n",
       "  <tbody>\n",
       "    <tr>\n",
       "      <th>DCH.FCE.PHS.20.AUS.Q.IN.0</th>\n",
       "      <td>Implicit price deflators</td>\n",
       "      <td>Final consumption expenditure</td>\n",
       "      <td>Households</td>\n",
       "      <td>Seasonally Adjusted</td>\n",
       "      <td>Australia</td>\n",
       "      <td>Quarterly</td>\n",
       "      <td>IN</td>\n",
       "      <td>0</td>\n",
       "    </tr>\n",
       "    <tr>\n",
       "      <th>DCH.FCE.GGC.20.AUS.Q.IN.0</th>\n",
       "      <td>Implicit price deflators</td>\n",
       "      <td>Final consumption expenditure</td>\n",
       "      <td>General government - National</td>\n",
       "      <td>Seasonally Adjusted</td>\n",
       "      <td>Australia</td>\n",
       "      <td>Quarterly</td>\n",
       "      <td>IN</td>\n",
       "      <td>0</td>\n",
       "    </tr>\n",
       "    <tr>\n",
       "      <th>DCH.FCE.SSS.20.AUS.Q.IN.0</th>\n",
       "      <td>Implicit price deflators</td>\n",
       "      <td>Final consumption expenditure</td>\n",
       "      <td>All sectors</td>\n",
       "      <td>Seasonally Adjusted</td>\n",
       "      <td>Australia</td>\n",
       "      <td>Quarterly</td>\n",
       "      <td>IN</td>\n",
       "      <td>0</td>\n",
       "    </tr>\n",
       "    <tr>\n",
       "      <th>DCH.FCE.GGS_SL.20.AUS.Q.IN.0</th>\n",
       "      <td>Implicit price deflators</td>\n",
       "      <td>Final consumption expenditure</td>\n",
       "      <td>General government - State and local</td>\n",
       "      <td>Seasonally Adjusted</td>\n",
       "      <td>Australia</td>\n",
       "      <td>Quarterly</td>\n",
       "      <td>IN</td>\n",
       "      <td>0</td>\n",
       "    </tr>\n",
       "    <tr>\n",
       "      <th>DCH.FCE.GGS.20.AUS.Q.IN.0</th>\n",
       "      <td>Implicit price deflators</td>\n",
       "      <td>Final consumption expenditure</td>\n",
       "      <td>General government</td>\n",
       "      <td>Seasonally Adjusted</td>\n",
       "      <td>Australia</td>\n",
       "      <td>Quarterly</td>\n",
       "      <td>IN</td>\n",
       "      <td>0</td>\n",
       "    </tr>\n",
       "  </tbody>\n",
       "</table>\n",
       "</div>"
      ],
      "text/plain": [
       "                                               MEASURE  \\\n",
       "DCH.FCE.PHS.20.AUS.Q.IN.0     Implicit price deflators   \n",
       "DCH.FCE.GGC.20.AUS.Q.IN.0     Implicit price deflators   \n",
       "DCH.FCE.SSS.20.AUS.Q.IN.0     Implicit price deflators   \n",
       "DCH.FCE.GGS_SL.20.AUS.Q.IN.0  Implicit price deflators   \n",
       "DCH.FCE.GGS.20.AUS.Q.IN.0     Implicit price deflators   \n",
       "\n",
       "                                                  DATA_ITEM  \\\n",
       "DCH.FCE.PHS.20.AUS.Q.IN.0     Final consumption expenditure   \n",
       "DCH.FCE.GGC.20.AUS.Q.IN.0     Final consumption expenditure   \n",
       "DCH.FCE.SSS.20.AUS.Q.IN.0     Final consumption expenditure   \n",
       "DCH.FCE.GGS_SL.20.AUS.Q.IN.0  Final consumption expenditure   \n",
       "DCH.FCE.GGS.20.AUS.Q.IN.0     Final consumption expenditure   \n",
       "\n",
       "                                                            SECTOR  \\\n",
       "DCH.FCE.PHS.20.AUS.Q.IN.0                               Households   \n",
       "DCH.FCE.GGC.20.AUS.Q.IN.0            General government - National   \n",
       "DCH.FCE.SSS.20.AUS.Q.IN.0                              All sectors   \n",
       "DCH.FCE.GGS_SL.20.AUS.Q.IN.0  General government - State and local   \n",
       "DCH.FCE.GGS.20.AUS.Q.IN.0                       General government   \n",
       "\n",
       "                                            TSEST     REGION       FREQ  \\\n",
       "DCH.FCE.PHS.20.AUS.Q.IN.0     Seasonally Adjusted  Australia  Quarterly   \n",
       "DCH.FCE.GGC.20.AUS.Q.IN.0     Seasonally Adjusted  Australia  Quarterly   \n",
       "DCH.FCE.SSS.20.AUS.Q.IN.0     Seasonally Adjusted  Australia  Quarterly   \n",
       "DCH.FCE.GGS_SL.20.AUS.Q.IN.0  Seasonally Adjusted  Australia  Quarterly   \n",
       "DCH.FCE.GGS.20.AUS.Q.IN.0     Seasonally Adjusted  Australia  Quarterly   \n",
       "\n",
       "                             UNIT_MEASURE UNIT_MULT  \n",
       "DCH.FCE.PHS.20.AUS.Q.IN.0              IN         0  \n",
       "DCH.FCE.GGC.20.AUS.Q.IN.0              IN         0  \n",
       "DCH.FCE.SSS.20.AUS.Q.IN.0              IN         0  \n",
       "DCH.FCE.GGS_SL.20.AUS.Q.IN.0           IN         0  \n",
       "DCH.FCE.GGS.20.AUS.Q.IN.0              IN         0  "
      ]
     },
     "execution_count": 11,
     "metadata": {},
     "output_type": "execute_result"
    }
   ],
   "source": [
    "# fetch one of the data flows and look at the meta data\n",
    "flow_id = \"ANA_EXP\"\n",
    "dimensions = {\n",
    "    \"MEASURE\": \"DCH\",   # Implicit Price Deflators\n",
    "    \"DATA_ITEM\": \"FCE\", # Final Consumption Expenditure\n",
    "    \"TSEST\": \"20\",      # Seasonally Adjusted\n",
    "    \"REGION\": \"AUS\",    # Australia\n",
    "}\n",
    "data, meta = sa.fetch(flow_id, dims=dimensions, validate=True)\n",
    "\n",
    "# A quick look at the meta data - noting multiple items selected.\n",
    "meta"
   ]
  },
  {
   "cell_type": "markdown",
   "metadata": {},
   "source": [
    "## Download selected ABS series"
   ]
  },
  {
   "cell_type": "code",
   "execution_count": 12,
   "metadata": {},
   "outputs": [
    {
     "data": {
      "application/vnd.microsoft.datawrangler.viewer.v0+json": {
       "columns": [
        {
         "name": "index",
         "rawType": "int64",
         "type": "integer"
        },
        {
         "name": "flow_id",
         "rawType": "object",
         "type": "string"
        },
        {
         "name": "MEASURE",
         "rawType": "object",
         "type": "string"
        },
        {
         "name": "INDEX",
         "rawType": "object",
         "type": "string"
        },
        {
         "name": "TSEST",
         "rawType": "object",
         "type": "string"
        },
        {
         "name": "REGION",
         "rawType": "object",
         "type": "string"
        },
        {
         "name": "DATA_ITEM",
         "rawType": "object",
         "type": "string"
        },
        {
         "name": "SECTOR",
         "rawType": "object",
         "type": "string"
        }
       ],
       "ref": "e13923cc-0889-4220-959a-de22a2290be7",
       "rows": [
        [
         "0",
         "CPI_M",
         "3",
         "10001",
         "10",
         "50",
         "-",
         "-"
        ],
        [
         "1",
         "CPI_M",
         "3",
         "999905",
         "10",
         "50",
         "-",
         "-"
        ],
        [
         "2",
         "CPI",
         "3",
         "10001",
         "10",
         "50",
         "-",
         "-"
        ],
        [
         "3",
         "CPI",
         "3",
         "999902",
         "20",
         "50",
         "-",
         "-"
        ],
        [
         "4",
         "CPI",
         "3",
         "999903",
         "20",
         "50",
         "-",
         "-"
        ],
        [
         "5",
         "ANA_EXP",
         "DCH",
         "-",
         "20",
         "AUS",
         "FCE",
         "PHS"
        ]
       ],
       "shape": {
        "columns": 7,
        "rows": 6
       }
      },
      "text/html": [
       "<div>\n",
       "<style scoped>\n",
       "    .dataframe tbody tr th:only-of-type {\n",
       "        vertical-align: middle;\n",
       "    }\n",
       "\n",
       "    .dataframe tbody tr th {\n",
       "        vertical-align: top;\n",
       "    }\n",
       "\n",
       "    .dataframe thead th {\n",
       "        text-align: right;\n",
       "    }\n",
       "</style>\n",
       "<table border=\"1\" class=\"dataframe\">\n",
       "  <thead>\n",
       "    <tr style=\"text-align: right;\">\n",
       "      <th></th>\n",
       "      <th>flow_id</th>\n",
       "      <th>MEASURE</th>\n",
       "      <th>INDEX</th>\n",
       "      <th>TSEST</th>\n",
       "      <th>REGION</th>\n",
       "      <th>DATA_ITEM</th>\n",
       "      <th>SECTOR</th>\n",
       "    </tr>\n",
       "  </thead>\n",
       "  <tbody>\n",
       "    <tr>\n",
       "      <th>0</th>\n",
       "      <td>CPI_M</td>\n",
       "      <td>3</td>\n",
       "      <td>10001</td>\n",
       "      <td>10</td>\n",
       "      <td>50</td>\n",
       "      <td>-</td>\n",
       "      <td>-</td>\n",
       "    </tr>\n",
       "    <tr>\n",
       "      <th>1</th>\n",
       "      <td>CPI_M</td>\n",
       "      <td>3</td>\n",
       "      <td>999905</td>\n",
       "      <td>10</td>\n",
       "      <td>50</td>\n",
       "      <td>-</td>\n",
       "      <td>-</td>\n",
       "    </tr>\n",
       "    <tr>\n",
       "      <th>2</th>\n",
       "      <td>CPI</td>\n",
       "      <td>3</td>\n",
       "      <td>10001</td>\n",
       "      <td>10</td>\n",
       "      <td>50</td>\n",
       "      <td>-</td>\n",
       "      <td>-</td>\n",
       "    </tr>\n",
       "    <tr>\n",
       "      <th>3</th>\n",
       "      <td>CPI</td>\n",
       "      <td>3</td>\n",
       "      <td>999902</td>\n",
       "      <td>20</td>\n",
       "      <td>50</td>\n",
       "      <td>-</td>\n",
       "      <td>-</td>\n",
       "    </tr>\n",
       "    <tr>\n",
       "      <th>4</th>\n",
       "      <td>CPI</td>\n",
       "      <td>3</td>\n",
       "      <td>999903</td>\n",
       "      <td>20</td>\n",
       "      <td>50</td>\n",
       "      <td>-</td>\n",
       "      <td>-</td>\n",
       "    </tr>\n",
       "    <tr>\n",
       "      <th>5</th>\n",
       "      <td>ANA_EXP</td>\n",
       "      <td>DCH</td>\n",
       "      <td>-</td>\n",
       "      <td>20</td>\n",
       "      <td>AUS</td>\n",
       "      <td>FCE</td>\n",
       "      <td>PHS</td>\n",
       "    </tr>\n",
       "  </tbody>\n",
       "</table>\n",
       "</div>"
      ],
      "text/plain": [
       "   flow_id MEASURE   INDEX TSEST REGION DATA_ITEM SECTOR\n",
       "0    CPI_M       3   10001    10     50         -      -\n",
       "1    CPI_M       3  999905    10     50         -      -\n",
       "2      CPI       3   10001    10     50         -      -\n",
       "3      CPI       3  999902    20     50         -      -\n",
       "4      CPI       3  999903    20     50         -      -\n",
       "5  ANA_EXP     DCH       -    20    AUS       FCE    PHS"
      ]
     },
     "execution_count": 12,
     "metadata": {},
     "output_type": "execute_result"
    }
   ],
   "source": [
    "# from the above exploration, we found the following \n",
    "# data flows of interest. Irrelevant values are indicated with\n",
    "# a dash (-) in the selection table below. These will\n",
    "# be ignored when constructing the key to fectch the data.\n",
    "text = \"\"\"\n",
    "flow_id, MEASURE, INDEX, TSEST, REGION, DATA_ITEM, SECTOR\n",
    "CPI_M,         3, 10001,    10,     50,         -,      -\n",
    "CPI_M,         3, 999905,   10,     50,         -,      -\n",
    "CPI,           3, 10001,    10,     50,         -,      -\n",
    "CPI,           3, 999902,   20,     50,         -,      -\n",
    "CPI,           3, 999903,   20,     50,         -,      -\n",
    "ANA_EXP,     DCH,      -,   20,    AUS,       FCE,    PHS\n",
    "\"\"\"\n",
    "selection = pd.read_csv(StringIO(text), dtype=str, skipinitialspace=True)\n",
    "selection"
   ]
  },
  {
   "cell_type": "code",
   "execution_count": null,
   "metadata": {},
   "outputs": [],
   "source": [
    "# Now lets fetch the data for each row in the above selection table.\n",
    "\n",
    "def extract(dims: pd.DataFrame) -> tuple[pd.DataFrame, pd.Period]:\n",
    "    \"\"\"Extracts the data and metadata for each row in the dimensions DataFrame.\n",
    "       Assumes that that each row will only fetch one ABS data series.\n",
    "    \n",
    "    Args:\n",
    "        dims (pd.DataFrame): DataFrame containing the dimensions to fetch.\n",
    "        \n",
    "    Returns:\n",
    "        tuple[pd.DataFrame, pd.Period]: A DataFrame with the fetched data and\n",
    "                                        a starting point about 2 years ago that\n",
    "                                        is on a quarterly boundary.\"\"\"\n",
    "\n",
    "    box = {}\n",
    "    two_years_ago: pd.Period = pd.Timestamp.now().to_period(\"M\") - 25\n",
    "    for _index, row in selection.iterrows():\n",
    "        row_dict: dict[str, str] = row.to_dict()\n",
    "        flow_id = row_dict.pop(\"flow_id\", \"\")\n",
    "        if not flow_id:\n",
    "            # --- if there is no flow_id, we will skip this row\n",
    "            print(f\"Skipping row with no flow_id: {row_dict}\")\n",
    "            continue\n",
    "\n",
    "        # --- fetch the data and meta data for each row of the selection table\n",
    "        try:\n",
    "            data, meta = sa.fetch(flow_id, dims=row_dict, validate=False)\n",
    "        except (sa.CacheError, sa.HttpError, ValueError) as e:\n",
    "            # --- if there is an error, we will skip this row\n",
    "            print(f\"Error fetching {flow_id} with dimensions {row_dict}: {e}\")\n",
    "            continue\n",
    "        if len(meta) > 1:\n",
    "            # --- if there is more than one row of meta data, we will skip this row\n",
    "            print(f\"Multiple meta rows for {flow_id} with dimensions {row_dict}\")\n",
    "            continue\n",
    "        if data.empty or meta.empty:\n",
    "            # --- this should nto happen, but if it does, we will skip this row\n",
    "            print(f\"No data for {flow_id} with dimensions {row_dict}\")\n",
    "            continue\n",
    "        \n",
    "        data_series = data[data.columns[0]].astype(float)\n",
    "        meta_series = meta.iloc[0]\n",
    "        if \"INDEX\" in meta.columns:\n",
    "            # --- General case for most of my specified selections.\n",
    "            #     The fetch returned a single column of data\n",
    "            #     and a single row of metadata.\n",
    "            name = f\"{meta_series['FREQ']} {meta_series['INDEX']} ({meta_series['TSEST']})\"\n",
    "        else:\n",
    "            # --- Household Final Consumption Expenditure is a special case\n",
    "            #     The fetch returned an index, and I want through the year percentage change\n",
    "            #     Also, the meta data is different in this case, for the name\n",
    "            data_series = data_series.pct_change(periods=4) * 100\n",
    "            name = (\n",
    "                f\"{meta_series['FREQ']} {meta_series['SECTOR']} \"\n",
    "                + f\"{meta_series['DATA_ITEM']} ({meta_series['TSEST']})\"\n",
    "            )\n",
    "\n",
    "        # --- Convert quaterly data to monthly so we can plot on the same chart\n",
    "        if meta_series['FREQ'] == \"Quarterly\":\n",
    "            index = cast(pd.PeriodIndex, data_series.index).to_timestamp(how='end').to_period('M')\n",
    "            data_series.index = index\n",
    "            # --- get a starting point for the recent chart\n",
    "            two_years_ago = data_series.index[-9]\n",
    "\n",
    "        # --- put the data into a python dictionary\n",
    "        box[name] = data_series.rename(name)\n",
    "\n",
    "    return pd.DataFrame(box), cast(pd.Period, two_years_ago)"
   ]
  },
  {
   "cell_type": "markdown",
   "metadata": {},
   "source": [
    "## Plot the data"
   ]
  },
  {
   "cell_type": "code",
   "execution_count": 14,
   "metadata": {},
   "outputs": [
    {
     "name": "stdout",
     "output_type": "stream",
     "text": [
      "Warning: Data index appears to be missing 552 values, in line_plot. Check the data for completeness.\n"
     ]
    },
    {
     "data": {
      "image/png": "[encoded data removed]",
      "text/plain": [
       "<Figure size 900x450 with 1 Axes>"
      ]
     },
     "metadata": {},
     "output_type": "display_data"
    },
    {
     "name": "stdout",
     "output_type": "stream",
     "text": [
      "Warning: Data index appears to be missing 552 values, in line_plot. Check the data for completeness.\n"
     ]
    },
    {
     "data": {
      "image/png": "[encoded data removed]",
      "text/plain": [
       "<Figure size 900x450 with 1 Axes>"
      ]
     },
     "metadata": {},
     "output_type": "display_data"
    }
   ],
   "source": [
    "frame, recent = extract(selection)\n",
    "mg.multi_start(\n",
    "    frame,\n",
    "    starts=(0, recent),\n",
    "    function=mg.line_plot_finalise,\n",
    "    title=\"Inflation Measures\",\n",
    "    ylabel=\"Through the Year Percentage Change\",\n",
    "    axhspan={\"ymin\": 2, \"ymax\": 3, \"color\": \"lightgrey\", \"alpha\": 0.5, \"label\": \"RBA Target Band\", \"zorder\": -1},\n",
    "    legend={\"loc\": \"best\", \"ncol\": 1, \"fontsize\": \"x-small\"},\n",
    "    #marker=list(\"<>^vosD\"),\n",
    "    #markersize=100,\n",
    "    lfooter=\"Australia. \",\n",
    "    rfooter=f\"ABS SDMX dataflows: {', '.join(selection['flow_id'].unique())}\",\n",
    "    show=True,\n",
    ")"
   ]
  },
  {
   "cell_type": "markdown",
   "metadata": {},
   "source": [
    "## Finished"
   ]
  },
  {
   "cell_type": "code",
   "execution_count": 15,
   "metadata": {},
   "outputs": [
    {
     "name": "stdout",
     "output_type": "stream",
     "text": [
      "Last updated: 2025-07-06 13:50:54\n",
      "\n",
      "Python implementation: CPython\n",
      "Python version       : 3.13.5\n",
      "IPython version      : 9.4.0\n",
      "\n",
      "conda environment: n/a\n",
      "\n",
      "Compiler    : Clang 20.1.4 \n",
      "OS          : Darwin\n",
      "Release     : 24.5.0\n",
      "Machine     : arm64\n",
      "Processor   : arm\n",
      "CPU cores   : 14\n",
      "Architecture: 64bit\n",
      "\n",
      "sdmxabs: 0.1.0\n",
      "mgplot : 0.2.6\n",
      "typing : 3.10.0.0\n",
      "pandas : 2.3.0\n",
      "\n",
      "Watermark: 2.5.0\n",
      "\n"
     ]
    }
   ],
   "source": [
    "# watermark\n",
    "%load_ext watermark\n",
    "%watermark -u -t -d --iversions --watermark --machine --python --conda"
   ]
  },
  {
   "cell_type": "code",
   "execution_count": 16,
   "metadata": {
    "ExecuteTime": {
     "end_time": "2021-06-17T03:27:52.897323Z",
     "start_time": "2021-06-17T03:27:52.893824Z"
    }
   },
   "outputs": [
    {
     "name": "stdout",
     "output_type": "stream",
     "text": [
      "Finished\n"
     ]
    }
   ],
   "source": [
    "print(\"Finished\")"
   ]
  }
 ],
 "metadata": {
  "kernelspec": {
   "display_name": "sdmxabs",
   "language": "python",
   "name": "python3"
  },
  "language_info": {
   "codemirror_mode": {
    "name": "ipython",
    "version": 3
   },
   "file_extension": ".py",
   "mimetype": "text/x-python",
   "name": "python",
   "nbconvert_exporter": "python",
   "pygments_lexer": "ipython3",
   "version": "3.13.5"
  },
  "toc": {
   "base_numbering": 1,
   "nav_menu": {},
   "number_sections": true,
   "sideBar": true,
   "skip_h1_title": true,
   "title_cell": "Table of Contents",
   "title_sidebar": "Contents",
   "toc_cell": true,
   "toc_position": {
    "height": "calc(100% - 180px)",
    "left": "10px",
    "top": "150px",
    "width": "233.292px"
   },
   "toc_section_display": true,
   "toc_window_display": true
  }
 },
 "nbformat": 4,
 "nbformat_minor": 4
}
