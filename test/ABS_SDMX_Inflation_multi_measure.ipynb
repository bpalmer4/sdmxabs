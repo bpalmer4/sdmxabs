{
 "cells": [
  {
   "cell_type": "markdown",
   "metadata": {},
   "source": [
    "# ABS Inflation multi-measure"
   ]
  },
  {
   "cell_type": "markdown",
   "metadata": {},
   "source": [
    "## Python set-up"
   ]
  },
  {
   "cell_type": "code",
   "execution_count": 1,
   "metadata": {
    "ExecuteTime": {
     "end_time": "2021-06-17T03:27:46.577688Z",
     "start_time": "2021-06-17T03:27:45.727512Z"
    },
    "tags": []
   },
   "outputs": [],
   "source": [
    "# system imports\n",
    "from io import StringIO\n",
    "from typing import cast\n",
    "\n",
    "# analytic imports\n",
    "import pandas as pd\n",
    "import sdmxabs as sa\n",
    "import mgplot as mg"
   ]
  },
  {
   "cell_type": "code",
   "execution_count": 2,
   "metadata": {},
   "outputs": [],
   "source": [
    "# save charts in this notebook\n",
    "CHART_DIR = \"./CHARTS/Inflation-sdmx/\"\n",
    "mg.set_chart_dir(CHART_DIR)\n",
    "mg.clear_chart_dir()\n",
    "\n",
    "# display charts in this notebook\n",
    "SHOW = True"
   ]
  },
  {
   "cell_type": "markdown",
   "metadata": {},
   "source": [
    "## Exploratory data analysis"
   ]
  },
  {
   "cell_type": "markdown",
   "metadata": {},
   "source": [
    "### Data flows"
   ]
  },
  {
   "cell_type": "code",
   "execution_count": 3,
   "metadata": {},
   "outputs": [
    {
     "data": {
      "application/vnd.microsoft.datawrangler.viewer.v0+json": {
       "columns": [
        {
         "name": "index",
         "rawType": "object",
         "type": "string"
        },
        {
         "name": "agencyID",
         "rawType": "object",
         "type": "string"
        },
        {
         "name": "version",
         "rawType": "object",
         "type": "string"
        },
        {
         "name": "isFinal",
         "rawType": "object",
         "type": "string"
        },
        {
         "name": "name",
         "rawType": "object",
         "type": "string"
        }
       ],
       "ref": "6169c750-b1a1-4aa6-ade5-3aa3ab849508",
       "rows": [
        [
         "ANA_EXP",
         "ABS",
         "1.0.0",
         "true",
         "Australian National Accounts - Expenditure on Gross Domestic Product (GDP (E))"
        ],
        [
         "ANA_SFD",
         "ABS",
         "1.0.0",
         "true",
         "Australian National Accounts - State Final Demand"
        ],
        [
         "ANA_AGG",
         "ABS",
         "1.0.0",
         "true",
         "Australian National Accounts Key Aggregates"
        ],
        [
         "ANA_INC",
         "ABS",
         "1.0.0",
         "true",
         "Australian National Accounts – Income from Gross Domestic Product (GDP (I))"
        ],
        [
         "ANA_IND_GVA",
         "ABS",
         "1.0.0",
         "true",
         "Australian National Accounts – Production of Gross Domestic Product (GDP (P))"
        ]
       ],
       "shape": {
        "columns": 4,
        "rows": 5
       }
      },
      "text/html": [
       "<div>\n",
       "<style scoped>\n",
       "    .dataframe tbody tr th:only-of-type {\n",
       "        vertical-align: middle;\n",
       "    }\n",
       "\n",
       "    .dataframe tbody tr th {\n",
       "        vertical-align: top;\n",
       "    }\n",
       "\n",
       "    .dataframe thead th {\n",
       "        text-align: right;\n",
       "    }\n",
       "</style>\n",
       "<table border=\"1\" class=\"dataframe\">\n",
       "  <thead>\n",
       "    <tr style=\"text-align: right;\">\n",
       "      <th></th>\n",
       "      <th>agencyID</th>\n",
       "      <th>version</th>\n",
       "      <th>isFinal</th>\n",
       "      <th>name</th>\n",
       "    </tr>\n",
       "  </thead>\n",
       "  <tbody>\n",
       "    <tr>\n",
       "      <th>ANA_EXP</th>\n",
       "      <td>ABS</td>\n",
       "      <td>1.0.0</td>\n",
       "      <td>true</td>\n",
       "      <td>Australian National Accounts - Expenditure on ...</td>\n",
       "    </tr>\n",
       "    <tr>\n",
       "      <th>ANA_SFD</th>\n",
       "      <td>ABS</td>\n",
       "      <td>1.0.0</td>\n",
       "      <td>true</td>\n",
       "      <td>Australian National Accounts - State Final Demand</td>\n",
       "    </tr>\n",
       "    <tr>\n",
       "      <th>ANA_AGG</th>\n",
       "      <td>ABS</td>\n",
       "      <td>1.0.0</td>\n",
       "      <td>true</td>\n",
       "      <td>Australian National Accounts Key Aggregates</td>\n",
       "    </tr>\n",
       "    <tr>\n",
       "      <th>ANA_INC</th>\n",
       "      <td>ABS</td>\n",
       "      <td>1.0.0</td>\n",
       "      <td>true</td>\n",
       "      <td>Australian National Accounts – Income from Gro...</td>\n",
       "    </tr>\n",
       "    <tr>\n",
       "      <th>ANA_IND_GVA</th>\n",
       "      <td>ABS</td>\n",
       "      <td>1.0.0</td>\n",
       "      <td>true</td>\n",
       "      <td>Australian National Accounts – Production of G...</td>\n",
       "    </tr>\n",
       "  </tbody>\n",
       "</table>\n",
       "</div>"
      ],
      "text/plain": [
       "            agencyID version isFinal  \\\n",
       "ANA_EXP          ABS   1.0.0    true   \n",
       "ANA_SFD          ABS   1.0.0    true   \n",
       "ANA_AGG          ABS   1.0.0    true   \n",
       "ANA_INC          ABS   1.0.0    true   \n",
       "ANA_IND_GVA      ABS   1.0.0    true   \n",
       "\n",
       "                                                          name  \n",
       "ANA_EXP      Australian National Accounts - Expenditure on ...  \n",
       "ANA_SFD      Australian National Accounts - State Final Demand  \n",
       "ANA_AGG            Australian National Accounts Key Aggregates  \n",
       "ANA_INC      Australian National Accounts – Income from Gro...  \n",
       "ANA_IND_GVA  Australian National Accounts – Production of G...  "
      ]
     },
     "execution_count": 3,
     "metadata": {},
     "output_type": "execute_result"
    }
   ],
   "source": [
    "# search data flows for the National Accounts data\n",
    "dflows = sa.data_flows()  # returns more than 1200 rows, each a data flow.\n",
    "df = pd.DataFrame(dflows).T\n",
    "df[df.name.str.contains(\"National Accounts\")].sort_values(\"name\")"
   ]
  },
  {
   "cell_type": "code",
   "execution_count": 4,
   "metadata": {},
   "outputs": [
    {
     "data": {
      "application/vnd.microsoft.datawrangler.viewer.v0+json": {
       "columns": [
        {
         "name": "index",
         "rawType": "object",
         "type": "string"
        },
        {
         "name": "agencyID",
         "rawType": "object",
         "type": "string"
        },
        {
         "name": "version",
         "rawType": "object",
         "type": "string"
        },
        {
         "name": "isFinal",
         "rawType": "object",
         "type": "string"
        },
        {
         "name": "name",
         "rawType": "object",
         "type": "string"
        }
       ],
       "ref": "94fdfb23-5c76-4b7a-b615-33dea87b008a",
       "rows": [
        [
         "CPI",
         "ABS",
         "1.1.0",
         "true",
         "Consumer Price Index (CPI) 17th Series"
        ],
        [
         "CPI_WEIGHTS",
         "ABS",
         "1.0.0",
         "true",
         "Consumer Price Index (CPI) Weights"
        ],
        [
         "ITPI_EXP",
         "ABS",
         "1.0.0",
         "true",
         "Export Price Index"
        ],
        [
         "ITPI_IMP",
         "ABS",
         "1.0.0",
         "true",
         "Import Price Index"
        ],
        [
         "CPI_M",
         "ABS",
         "1.2.0",
         "true",
         "Monthly Consumer Price Index (CPI) indicator"
        ],
        [
         "PPI",
         "ABS",
         "1.1.3",
         "true",
         "Producer Price Indexes by Industry"
        ],
        [
         "PPI_FD",
         "ABS",
         "1.1.0",
         "true",
         "Producer Price Indexes, Final Demand"
        ],
        [
         "RPPI",
         "ABS",
         "1.0.0",
         "true",
         "Residential Property Price Index"
        ],
        [
         "WPI",
         "ABS",
         "1.2.0",
         "true",
         "Wage Price Index"
        ]
       ],
       "shape": {
        "columns": 4,
        "rows": 9
       }
      },
      "text/html": [
       "<div>\n",
       "<style scoped>\n",
       "    .dataframe tbody tr th:only-of-type {\n",
       "        vertical-align: middle;\n",
       "    }\n",
       "\n",
       "    .dataframe tbody tr th {\n",
       "        vertical-align: top;\n",
       "    }\n",
       "\n",
       "    .dataframe thead th {\n",
       "        text-align: right;\n",
       "    }\n",
       "</style>\n",
       "<table border=\"1\" class=\"dataframe\">\n",
       "  <thead>\n",
       "    <tr style=\"text-align: right;\">\n",
       "      <th></th>\n",
       "      <th>agencyID</th>\n",
       "      <th>version</th>\n",
       "      <th>isFinal</th>\n",
       "      <th>name</th>\n",
       "    </tr>\n",
       "  </thead>\n",
       "  <tbody>\n",
       "    <tr>\n",
       "      <th>CPI</th>\n",
       "      <td>ABS</td>\n",
       "      <td>1.1.0</td>\n",
       "      <td>true</td>\n",
       "      <td>Consumer Price Index (CPI) 17th Series</td>\n",
       "    </tr>\n",
       "    <tr>\n",
       "      <th>CPI_WEIGHTS</th>\n",
       "      <td>ABS</td>\n",
       "      <td>1.0.0</td>\n",
       "      <td>true</td>\n",
       "      <td>Consumer Price Index (CPI) Weights</td>\n",
       "    </tr>\n",
       "    <tr>\n",
       "      <th>ITPI_EXP</th>\n",
       "      <td>ABS</td>\n",
       "      <td>1.0.0</td>\n",
       "      <td>true</td>\n",
       "      <td>Export Price Index</td>\n",
       "    </tr>\n",
       "    <tr>\n",
       "      <th>ITPI_IMP</th>\n",
       "      <td>ABS</td>\n",
       "      <td>1.0.0</td>\n",
       "      <td>true</td>\n",
       "      <td>Import Price Index</td>\n",
       "    </tr>\n",
       "    <tr>\n",
       "      <th>CPI_M</th>\n",
       "      <td>ABS</td>\n",
       "      <td>1.2.0</td>\n",
       "      <td>true</td>\n",
       "      <td>Monthly Consumer Price Index (CPI) indicator</td>\n",
       "    </tr>\n",
       "    <tr>\n",
       "      <th>PPI</th>\n",
       "      <td>ABS</td>\n",
       "      <td>1.1.3</td>\n",
       "      <td>true</td>\n",
       "      <td>Producer Price Indexes by Industry</td>\n",
       "    </tr>\n",
       "    <tr>\n",
       "      <th>PPI_FD</th>\n",
       "      <td>ABS</td>\n",
       "      <td>1.1.0</td>\n",
       "      <td>true</td>\n",
       "      <td>Producer Price Indexes, Final Demand</td>\n",
       "    </tr>\n",
       "    <tr>\n",
       "      <th>RPPI</th>\n",
       "      <td>ABS</td>\n",
       "      <td>1.0.0</td>\n",
       "      <td>true</td>\n",
       "      <td>Residential Property Price Index</td>\n",
       "    </tr>\n",
       "    <tr>\n",
       "      <th>WPI</th>\n",
       "      <td>ABS</td>\n",
       "      <td>1.2.0</td>\n",
       "      <td>true</td>\n",
       "      <td>Wage Price Index</td>\n",
       "    </tr>\n",
       "  </tbody>\n",
       "</table>\n",
       "</div>"
      ],
      "text/plain": [
       "            agencyID version isFinal  \\\n",
       "CPI              ABS   1.1.0    true   \n",
       "CPI_WEIGHTS      ABS   1.0.0    true   \n",
       "ITPI_EXP         ABS   1.0.0    true   \n",
       "ITPI_IMP         ABS   1.0.0    true   \n",
       "CPI_M            ABS   1.2.0    true   \n",
       "PPI              ABS   1.1.3    true   \n",
       "PPI_FD           ABS   1.1.0    true   \n",
       "RPPI             ABS   1.0.0    true   \n",
       "WPI              ABS   1.2.0    true   \n",
       "\n",
       "                                                     name  \n",
       "CPI                Consumer Price Index (CPI) 17th Series  \n",
       "CPI_WEIGHTS            Consumer Price Index (CPI) Weights  \n",
       "ITPI_EXP                               Export Price Index  \n",
       "ITPI_IMP                               Import Price Index  \n",
       "CPI_M        Monthly Consumer Price Index (CPI) indicator  \n",
       "PPI                    Producer Price Indexes by Industry  \n",
       "PPI_FD               Producer Price Indexes, Final Demand  \n",
       "RPPI                     Residential Property Price Index  \n",
       "WPI                                      Wage Price Index  "
      ]
     },
     "execution_count": 4,
     "metadata": {},
     "output_type": "execute_result"
    }
   ],
   "source": [
    "# And lets look for data flows that are a price index\n",
    "df[df.name.str.contains(\"Price Index\")].sort_values(\"name\").head(10)"
   ]
  },
  {
   "cell_type": "markdown",
   "metadata": {},
   "source": [
    "### Data dimensions"
   ]
  },
  {
   "cell_type": "code",
   "execution_count": 5,
   "metadata": {},
   "outputs": [
    {
     "data": {
      "application/vnd.microsoft.datawrangler.viewer.v0+json": {
       "columns": [
        {
         "name": "index",
         "rawType": "object",
         "type": "string"
        },
        {
         "name": "position",
         "rawType": "object",
         "type": "string"
        },
        {
         "name": "id",
         "rawType": "object",
         "type": "string"
        },
        {
         "name": "version",
         "rawType": "object",
         "type": "string"
        },
        {
         "name": "agencyID",
         "rawType": "object",
         "type": "string"
        },
        {
         "name": "package",
         "rawType": "object",
         "type": "string"
        },
        {
         "name": "class",
         "rawType": "object",
         "type": "string"
        }
       ],
       "ref": "18b9fbbc-17d8-4c05-a0f2-e450e657bfe4",
       "rows": [
        [
         "MEASURE",
         "1",
         "CL_ANA_MEASURE",
         "1.0.0",
         "ABS",
         "codelist",
         "Codelist"
        ],
        [
         "DATA_ITEM",
         "2",
         "CL_ANA_EXP_ITEMS",
         "0.0.3",
         "ABS",
         "codelist",
         "Codelist"
        ],
        [
         "SECTOR",
         "3",
         "CL_ANA_SECTOR",
         "1.0.0",
         "ABS",
         "codelist",
         "Codelist"
        ],
        [
         "TSEST",
         "4",
         "CL_TSEST",
         "1.0.0",
         "ABS",
         "codelist",
         "Codelist"
        ],
        [
         "REGION",
         "5",
         "CL_STATE",
         "1.0.0",
         "ABS",
         "codelist",
         "Codelist"
        ],
        [
         "FREQ",
         "6",
         "CL_FREQ",
         "1.0.0",
         "ABS",
         "codelist",
         "Codelist"
        ]
       ],
       "shape": {
        "columns": 6,
        "rows": 6
       }
      },
      "text/html": [
       "<div>\n",
       "<style scoped>\n",
       "    .dataframe tbody tr th:only-of-type {\n",
       "        vertical-align: middle;\n",
       "    }\n",
       "\n",
       "    .dataframe tbody tr th {\n",
       "        vertical-align: top;\n",
       "    }\n",
       "\n",
       "    .dataframe thead th {\n",
       "        text-align: right;\n",
       "    }\n",
       "</style>\n",
       "<table border=\"1\" class=\"dataframe\">\n",
       "  <thead>\n",
       "    <tr style=\"text-align: right;\">\n",
       "      <th></th>\n",
       "      <th>position</th>\n",
       "      <th>id</th>\n",
       "      <th>version</th>\n",
       "      <th>agencyID</th>\n",
       "      <th>package</th>\n",
       "      <th>class</th>\n",
       "    </tr>\n",
       "  </thead>\n",
       "  <tbody>\n",
       "    <tr>\n",
       "      <th>MEASURE</th>\n",
       "      <td>1</td>\n",
       "      <td>CL_ANA_MEASURE</td>\n",
       "      <td>1.0.0</td>\n",
       "      <td>ABS</td>\n",
       "      <td>codelist</td>\n",
       "      <td>Codelist</td>\n",
       "    </tr>\n",
       "    <tr>\n",
       "      <th>DATA_ITEM</th>\n",
       "      <td>2</td>\n",
       "      <td>CL_ANA_EXP_ITEMS</td>\n",
       "      <td>0.0.3</td>\n",
       "      <td>ABS</td>\n",
       "      <td>codelist</td>\n",
       "      <td>Codelist</td>\n",
       "    </tr>\n",
       "    <tr>\n",
       "      <th>SECTOR</th>\n",
       "      <td>3</td>\n",
       "      <td>CL_ANA_SECTOR</td>\n",
       "      <td>1.0.0</td>\n",
       "      <td>ABS</td>\n",
       "      <td>codelist</td>\n",
       "      <td>Codelist</td>\n",
       "    </tr>\n",
       "    <tr>\n",
       "      <th>TSEST</th>\n",
       "      <td>4</td>\n",
       "      <td>CL_TSEST</td>\n",
       "      <td>1.0.0</td>\n",
       "      <td>ABS</td>\n",
       "      <td>codelist</td>\n",
       "      <td>Codelist</td>\n",
       "    </tr>\n",
       "    <tr>\n",
       "      <th>REGION</th>\n",
       "      <td>5</td>\n",
       "      <td>CL_STATE</td>\n",
       "      <td>1.0.0</td>\n",
       "      <td>ABS</td>\n",
       "      <td>codelist</td>\n",
       "      <td>Codelist</td>\n",
       "    </tr>\n",
       "    <tr>\n",
       "      <th>FREQ</th>\n",
       "      <td>6</td>\n",
       "      <td>CL_FREQ</td>\n",
       "      <td>1.0.0</td>\n",
       "      <td>ABS</td>\n",
       "      <td>codelist</td>\n",
       "      <td>Codelist</td>\n",
       "    </tr>\n",
       "  </tbody>\n",
       "</table>\n",
       "</div>"
      ],
      "text/plain": [
       "          position                id version agencyID   package     class\n",
       "MEASURE          1    CL_ANA_MEASURE   1.0.0      ABS  codelist  Codelist\n",
       "DATA_ITEM        2  CL_ANA_EXP_ITEMS   0.0.3      ABS  codelist  Codelist\n",
       "SECTOR           3     CL_ANA_SECTOR   1.0.0      ABS  codelist  Codelist\n",
       "TSEST            4          CL_TSEST   1.0.0      ABS  codelist  Codelist\n",
       "REGION           5          CL_STATE   1.0.0      ABS  codelist  Codelist\n",
       "FREQ             6           CL_FREQ   1.0.0      ABS  codelist  Codelist"
      ]
     },
     "execution_count": 5,
     "metadata": {},
     "output_type": "execute_result"
    }
   ],
   "source": [
    "# check out the data dimensions for the Expenditure GDP data\n",
    "pd.DataFrame(sa.data_dimensions(\"ANA_EXP\")).T"
   ]
  },
  {
   "cell_type": "code",
   "execution_count": 6,
   "metadata": {},
   "outputs": [
    {
     "data": {
      "application/vnd.microsoft.datawrangler.viewer.v0+json": {
       "columns": [
        {
         "name": "index",
         "rawType": "object",
         "type": "string"
        },
        {
         "name": "position",
         "rawType": "object",
         "type": "string"
        },
        {
         "name": "id",
         "rawType": "object",
         "type": "string"
        },
        {
         "name": "version",
         "rawType": "object",
         "type": "string"
        },
        {
         "name": "agencyID",
         "rawType": "object",
         "type": "string"
        },
        {
         "name": "package",
         "rawType": "object",
         "type": "string"
        },
        {
         "name": "class",
         "rawType": "object",
         "type": "string"
        }
       ],
       "ref": "786773ab-0d79-4d3e-8d28-7e8acf0473d7",
       "rows": [
        [
         "MEASURE",
         "1",
         "CL_CPI_MEASURES",
         "1.0.0",
         "ABS",
         "codelist",
         "Codelist"
        ],
        [
         "INDEX",
         "2",
         "CL_CPI_INDEX_17",
         "1.1.0",
         "ABS",
         "codelist",
         "Codelist"
        ],
        [
         "TSEST",
         "3",
         "CL_TSEST",
         "1.0.0",
         "ABS",
         "codelist",
         "Codelist"
        ],
        [
         "REGION",
         "4",
         "CL_CPI_REGION",
         "1.0.0",
         "ABS",
         "codelist",
         "Codelist"
        ],
        [
         "FREQ",
         "5",
         "CL_FREQ",
         "1.0.0",
         "ABS",
         "codelist",
         "Codelist"
        ]
       ],
       "shape": {
        "columns": 6,
        "rows": 5
       }
      },
      "text/html": [
       "<div>\n",
       "<style scoped>\n",
       "    .dataframe tbody tr th:only-of-type {\n",
       "        vertical-align: middle;\n",
       "    }\n",
       "\n",
       "    .dataframe tbody tr th {\n",
       "        vertical-align: top;\n",
       "    }\n",
       "\n",
       "    .dataframe thead th {\n",
       "        text-align: right;\n",
       "    }\n",
       "</style>\n",
       "<table border=\"1\" class=\"dataframe\">\n",
       "  <thead>\n",
       "    <tr style=\"text-align: right;\">\n",
       "      <th></th>\n",
       "      <th>position</th>\n",
       "      <th>id</th>\n",
       "      <th>version</th>\n",
       "      <th>agencyID</th>\n",
       "      <th>package</th>\n",
       "      <th>class</th>\n",
       "    </tr>\n",
       "  </thead>\n",
       "  <tbody>\n",
       "    <tr>\n",
       "      <th>MEASURE</th>\n",
       "      <td>1</td>\n",
       "      <td>CL_CPI_MEASURES</td>\n",
       "      <td>1.0.0</td>\n",
       "      <td>ABS</td>\n",
       "      <td>codelist</td>\n",
       "      <td>Codelist</td>\n",
       "    </tr>\n",
       "    <tr>\n",
       "      <th>INDEX</th>\n",
       "      <td>2</td>\n",
       "      <td>CL_CPI_INDEX_17</td>\n",
       "      <td>1.1.0</td>\n",
       "      <td>ABS</td>\n",
       "      <td>codelist</td>\n",
       "      <td>Codelist</td>\n",
       "    </tr>\n",
       "    <tr>\n",
       "      <th>TSEST</th>\n",
       "      <td>3</td>\n",
       "      <td>CL_TSEST</td>\n",
       "      <td>1.0.0</td>\n",
       "      <td>ABS</td>\n",
       "      <td>codelist</td>\n",
       "      <td>Codelist</td>\n",
       "    </tr>\n",
       "    <tr>\n",
       "      <th>REGION</th>\n",
       "      <td>4</td>\n",
       "      <td>CL_CPI_REGION</td>\n",
       "      <td>1.0.0</td>\n",
       "      <td>ABS</td>\n",
       "      <td>codelist</td>\n",
       "      <td>Codelist</td>\n",
       "    </tr>\n",
       "    <tr>\n",
       "      <th>FREQ</th>\n",
       "      <td>5</td>\n",
       "      <td>CL_FREQ</td>\n",
       "      <td>1.0.0</td>\n",
       "      <td>ABS</td>\n",
       "      <td>codelist</td>\n",
       "      <td>Codelist</td>\n",
       "    </tr>\n",
       "  </tbody>\n",
       "</table>\n",
       "</div>"
      ],
      "text/plain": [
       "        position               id version agencyID   package     class\n",
       "MEASURE        1  CL_CPI_MEASURES   1.0.0      ABS  codelist  Codelist\n",
       "INDEX          2  CL_CPI_INDEX_17   1.1.0      ABS  codelist  Codelist\n",
       "TSEST          3         CL_TSEST   1.0.0      ABS  codelist  Codelist\n",
       "REGION         4    CL_CPI_REGION   1.0.0      ABS  codelist  Codelist\n",
       "FREQ           5          CL_FREQ   1.0.0      ABS  codelist  Codelist"
      ]
     },
     "execution_count": 6,
     "metadata": {},
     "output_type": "execute_result"
    }
   ],
   "source": [
    "# The dimensions for the Consumer Price Index data are different,\n",
    "# and draw on different code lists for some dimensions.\n",
    "pd.DataFrame(sa.data_dimensions(\"CPI\")).T"
   ]
  },
  {
   "cell_type": "markdown",
   "metadata": {},
   "source": [
    "### Code lists"
   ]
  },
  {
   "cell_type": "code",
   "execution_count": 7,
   "metadata": {},
   "outputs": [
    {
     "data": {
      "application/vnd.microsoft.datawrangler.viewer.v0+json": {
       "columns": [
        {
         "name": "index",
         "rawType": "object",
         "type": "string"
        },
        {
         "name": "name",
         "rawType": "object",
         "type": "string"
        }
       ],
       "ref": "ea03a444-6acf-49e6-a451-846e12c02f1c",
       "rows": [
        [
         "PHS",
         "Households"
        ],
        [
         "SSS",
         "All sectors"
        ],
        [
         "SOS",
         "Non-residents"
        ],
        [
         "GGS",
         "General government"
        ],
        [
         "PSS",
         "Private"
        ],
        [
         "GSS",
         "Public"
        ],
        [
         "PHD",
         "Dwellings owned by persons"
        ],
        [
         "OSS",
         "Other sectors"
        ],
        [
         "GGC",
         "General government - National"
        ],
        [
         "GGS_SL",
         "General government - State and local"
        ],
        [
         "GEC",
         "Public corporations - Commonwealth"
        ],
        [
         "GES_SL",
         "Public corporations - State and local"
        ],
        [
         "GES",
         "Public corporations"
        ],
        [
         "GNS",
         "Public authorities"
        ],
        [
         "PTS",
         "Private non-financial corporations"
        ],
        [
         "GTS",
         "Public non-financial corporations"
        ],
        [
         "NFS",
         "Non-financial corporations"
        ],
        [
         "SFS",
         "Financial corporations"
        ],
        [
         "TCS",
         "Total corporations"
        ],
        [
         "SSD",
         "Ownership of dwellings"
        ],
        [
         "SES",
         "Other sectors"
        ],
        [
         "GFS",
         "Public financial corporations"
        ],
        [
         "PIS",
         "Total dividends"
        ],
        [
         "SEC",
         "Resident corporations"
        ],
        [
         "SOC",
         "Non-residents"
        ],
        [
         "SKS",
         "Non-financial corporations"
        ],
        [
         "PKS",
         "Public non-financial corporations"
        ],
        [
         "GKS",
         "Public non-financial corporations"
        ],
        [
         "MSS",
         "Market Sector"
        ],
        [
         "GSC",
         "Public - Commonwealth"
        ],
        [
         "GSS_SL",
         "Public - State and local"
        ],
        [
         "GGD",
         "General government - National - Defence"
        ],
        [
         "GGX",
         "General government - National - Non-defence"
        ],
        [
         "GGW",
         "General government - Commonwealth - Non-defence"
        ],
        [
         "GGM",
         "General government - Multijurisdictional"
        ]
       ],
       "shape": {
        "columns": 1,
        "rows": 35
       }
      },
      "text/html": [
       "<div>\n",
       "<style scoped>\n",
       "    .dataframe tbody tr th:only-of-type {\n",
       "        vertical-align: middle;\n",
       "    }\n",
       "\n",
       "    .dataframe tbody tr th {\n",
       "        vertical-align: top;\n",
       "    }\n",
       "\n",
       "    .dataframe thead th {\n",
       "        text-align: right;\n",
       "    }\n",
       "</style>\n",
       "<table border=\"1\" class=\"dataframe\">\n",
       "  <thead>\n",
       "    <tr style=\"text-align: right;\">\n",
       "      <th></th>\n",
       "      <th>name</th>\n",
       "    </tr>\n",
       "  </thead>\n",
       "  <tbody>\n",
       "    <tr>\n",
       "      <th>PHS</th>\n",
       "      <td>Households</td>\n",
       "    </tr>\n",
       "    <tr>\n",
       "      <th>SSS</th>\n",
       "      <td>All sectors</td>\n",
       "    </tr>\n",
       "    <tr>\n",
       "      <th>SOS</th>\n",
       "      <td>Non-residents</td>\n",
       "    </tr>\n",
       "    <tr>\n",
       "      <th>GGS</th>\n",
       "      <td>General government</td>\n",
       "    </tr>\n",
       "    <tr>\n",
       "      <th>PSS</th>\n",
       "      <td>Private</td>\n",
       "    </tr>\n",
       "    <tr>\n",
       "      <th>GSS</th>\n",
       "      <td>Public</td>\n",
       "    </tr>\n",
       "    <tr>\n",
       "      <th>PHD</th>\n",
       "      <td>Dwellings owned by persons</td>\n",
       "    </tr>\n",
       "    <tr>\n",
       "      <th>OSS</th>\n",
       "      <td>Other sectors</td>\n",
       "    </tr>\n",
       "    <tr>\n",
       "      <th>GGC</th>\n",
       "      <td>General government - National</td>\n",
       "    </tr>\n",
       "    <tr>\n",
       "      <th>GGS_SL</th>\n",
       "      <td>General government - State and local</td>\n",
       "    </tr>\n",
       "    <tr>\n",
       "      <th>GEC</th>\n",
       "      <td>Public corporations - Commonwealth</td>\n",
       "    </tr>\n",
       "    <tr>\n",
       "      <th>GES_SL</th>\n",
       "      <td>Public corporations - State and local</td>\n",
       "    </tr>\n",
       "    <tr>\n",
       "      <th>GES</th>\n",
       "      <td>Public corporations</td>\n",
       "    </tr>\n",
       "    <tr>\n",
       "      <th>GNS</th>\n",
       "      <td>Public authorities</td>\n",
       "    </tr>\n",
       "    <tr>\n",
       "      <th>PTS</th>\n",
       "      <td>Private non-financial corporations</td>\n",
       "    </tr>\n",
       "    <tr>\n",
       "      <th>GTS</th>\n",
       "      <td>Public non-financial corporations</td>\n",
       "    </tr>\n",
       "    <tr>\n",
       "      <th>NFS</th>\n",
       "      <td>Non-financial corporations</td>\n",
       "    </tr>\n",
       "    <tr>\n",
       "      <th>SFS</th>\n",
       "      <td>Financial corporations</td>\n",
       "    </tr>\n",
       "    <tr>\n",
       "      <th>TCS</th>\n",
       "      <td>Total corporations</td>\n",
       "    </tr>\n",
       "    <tr>\n",
       "      <th>SSD</th>\n",
       "      <td>Ownership of dwellings</td>\n",
       "    </tr>\n",
       "    <tr>\n",
       "      <th>SES</th>\n",
       "      <td>Other sectors</td>\n",
       "    </tr>\n",
       "    <tr>\n",
       "      <th>GFS</th>\n",
       "      <td>Public financial corporations</td>\n",
       "    </tr>\n",
       "    <tr>\n",
       "      <th>PIS</th>\n",
       "      <td>Total dividends</td>\n",
       "    </tr>\n",
       "    <tr>\n",
       "      <th>SEC</th>\n",
       "      <td>Resident corporations</td>\n",
       "    </tr>\n",
       "    <tr>\n",
       "      <th>SOC</th>\n",
       "      <td>Non-residents</td>\n",
       "    </tr>\n",
       "    <tr>\n",
       "      <th>SKS</th>\n",
       "      <td>Non-financial corporations</td>\n",
       "    </tr>\n",
       "    <tr>\n",
       "      <th>PKS</th>\n",
       "      <td>Public non-financial corporations</td>\n",
       "    </tr>\n",
       "    <tr>\n",
       "      <th>GKS</th>\n",
       "      <td>Public non-financial corporations</td>\n",
       "    </tr>\n",
       "    <tr>\n",
       "      <th>MSS</th>\n",
       "      <td>Market Sector</td>\n",
       "    </tr>\n",
       "    <tr>\n",
       "      <th>GSC</th>\n",
       "      <td>Public - Commonwealth</td>\n",
       "    </tr>\n",
       "    <tr>\n",
       "      <th>GSS_SL</th>\n",
       "      <td>Public - State and local</td>\n",
       "    </tr>\n",
       "    <tr>\n",
       "      <th>GGD</th>\n",
       "      <td>General government - National - Defence</td>\n",
       "    </tr>\n",
       "    <tr>\n",
       "      <th>GGX</th>\n",
       "      <td>General government - National - Non-defence</td>\n",
       "    </tr>\n",
       "    <tr>\n",
       "      <th>GGW</th>\n",
       "      <td>General government - Commonwealth - Non-defence</td>\n",
       "    </tr>\n",
       "    <tr>\n",
       "      <th>GGM</th>\n",
       "      <td>General government - Multijurisdictional</td>\n",
       "    </tr>\n",
       "  </tbody>\n",
       "</table>\n",
       "</div>"
      ],
      "text/plain": [
       "                                                   name\n",
       "PHS                                          Households\n",
       "SSS                                         All sectors\n",
       "SOS                                       Non-residents\n",
       "GGS                                  General government\n",
       "PSS                                             Private\n",
       "GSS                                              Public\n",
       "PHD                          Dwellings owned by persons\n",
       "OSS                                       Other sectors\n",
       "GGC                       General government - National\n",
       "GGS_SL             General government - State and local\n",
       "GEC                  Public corporations - Commonwealth\n",
       "GES_SL            Public corporations - State and local\n",
       "GES                                 Public corporations\n",
       "GNS                                  Public authorities\n",
       "PTS                  Private non-financial corporations\n",
       "GTS                   Public non-financial corporations\n",
       "NFS                          Non-financial corporations\n",
       "SFS                              Financial corporations\n",
       "TCS                                  Total corporations\n",
       "SSD                              Ownership of dwellings\n",
       "SES                                       Other sectors\n",
       "GFS                       Public financial corporations\n",
       "PIS                                     Total dividends\n",
       "SEC                               Resident corporations\n",
       "SOC                                       Non-residents\n",
       "SKS                          Non-financial corporations\n",
       "PKS                   Public non-financial corporations\n",
       "GKS                   Public non-financial corporations\n",
       "MSS                                       Market Sector\n",
       "GSC                               Public - Commonwealth\n",
       "GSS_SL                         Public - State and local\n",
       "GGD             General government - National - Defence\n",
       "GGX         General government - National - Non-defence\n",
       "GGW     General government - Commonwealth - Non-defence\n",
       "GGM            General government - Multijurisdictional"
      ]
     },
     "execution_count": 7,
     "metadata": {},
     "output_type": "execute_result"
    }
   ],
   "source": [
    "# check out a specific code list for the Expenditure GDP data\n",
    "pd.DataFrame(sa.code_lists(\"CL_ANA_SECTOR\")).T"
   ]
  },
  {
   "cell_type": "code",
   "execution_count": 8,
   "metadata": {},
   "outputs": [
    {
     "data": {
      "text/plain": [
       "{'VCH': {'name': 'Chain volume measures'},\n",
       " 'PCT_VCH': {'name': 'Chain volume measures - Percentage changes'},\n",
       " 'TCH': {'name': 'Contributions to Growth  - Chain volume measures'},\n",
       " 'C': {'name': 'Current prices'},\n",
       " 'FCH': {'name': 'Chain price indexes'},\n",
       " 'PCT_FCH': {'name': 'Chain price indexes - Percentage Changes'},\n",
       " 'DCH': {'name': 'Implicit price deflators'},\n",
       " 'PCT_DCH': {'name': 'Implicit price deflators - Percentage changes'},\n",
       " 'PCT_RCH': {'name': 'Chain Volume Measures - Revisions to Percentage Changes'},\n",
       " 'RC': {'name': 'Current Prices - Revisions'},\n",
       " 'PCT_C': {'name': 'Current prices - Percentage Changes'},\n",
       " 'TC': {'name': 'Contributions to Growth'},\n",
       " 'PCT_ICH': {'name': 'Index - Percentage changes'},\n",
       " 'R': {'name': 'Ratio'},\n",
       " 'ICH': {'name': 'Index'},\n",
       " 'PCT_RC': {'name': 'Current prices - Revisions to Percentage Changes'}}"
      ]
     },
     "execution_count": 8,
     "metadata": {},
     "output_type": "execute_result"
    }
   ],
   "source": [
    "# check out a specific code list for the Expenditure GDP data\n",
    "sa.code_lists(\"CL_ANA_MEASURE\")"
   ]
  },
  {
   "cell_type": "code",
   "execution_count": 9,
   "metadata": {},
   "outputs": [
    {
     "data": {
      "text/plain": [
       "{'AUS': {'name': 'Australia'},\n",
       " '1': {'name': 'New South Wales', 'parent': 'AUS'},\n",
       " '2': {'name': 'Victoria', 'parent': 'AUS'},\n",
       " '3': {'name': 'Queensland', 'parent': 'AUS'},\n",
       " '4': {'name': 'South Australia', 'parent': 'AUS'},\n",
       " '5': {'name': 'Western Australia', 'parent': 'AUS'},\n",
       " '6': {'name': 'Tasmania', 'parent': 'AUS'},\n",
       " '7': {'name': 'Northern Territory', 'parent': 'AUS'},\n",
       " '8': {'name': 'Australian Capital Territory', 'parent': 'AUS'},\n",
       " '9': {'name': 'Other Territories', 'parent': 'AUS'}}"
      ]
     },
     "execution_count": 9,
     "metadata": {},
     "output_type": "execute_result"
    }
   ],
   "source": [
    "# check out a specific code list for the Expenditure GDP data\n",
    "sa.code_lists(\"CL_STATE\")"
   ]
  },
  {
   "cell_type": "code",
   "execution_count": 10,
   "metadata": {},
   "outputs": [
    {
     "data": {
      "text/plain": [
       "{'50': {'name': 'Weighted average of eight capital cities'},\n",
       " '1': {'name': 'Sydney', 'parent': '50'},\n",
       " '2': {'name': 'Melbourne', 'parent': '50'},\n",
       " '3': {'name': 'Brisbane', 'parent': '50'},\n",
       " '4': {'name': 'Adelaide', 'parent': '50'},\n",
       " '5': {'name': 'Perth', 'parent': '50'},\n",
       " '6': {'name': 'Hobart', 'parent': '50'},\n",
       " '7': {'name': 'Darwin', 'parent': '50'},\n",
       " '8': {'name': 'Canberra', 'parent': '50'}}"
      ]
     },
     "execution_count": 10,
     "metadata": {},
     "output_type": "execute_result"
    }
   ],
   "source": [
    "sa.code_lists(\"CL_CPI_REGION\")"
   ]
  },
  {
   "cell_type": "markdown",
   "metadata": {},
   "source": [
    "### A quick extraction to look at metadata"
   ]
  },
  {
   "cell_type": "code",
   "execution_count": 11,
   "metadata": {},
   "outputs": [
    {
     "name": "stdout",
     "output_type": "stream",
     "text": [
      "Missing dimensions for ANA_EXP: ['SECTOR', 'FREQ']\n"
     ]
    },
    {
     "data": {
      "application/vnd.microsoft.datawrangler.viewer.v0+json": {
       "columns": [
        {
         "name": "index",
         "rawType": "object",
         "type": "string"
        },
        {
         "name": "MEASURE",
         "rawType": "object",
         "type": "string"
        },
        {
         "name": "DATA_ITEM",
         "rawType": "object",
         "type": "string"
        },
        {
         "name": "SECTOR",
         "rawType": "object",
         "type": "string"
        },
        {
         "name": "TSEST",
         "rawType": "object",
         "type": "string"
        },
        {
         "name": "REGION",
         "rawType": "object",
         "type": "string"
        },
        {
         "name": "FREQ",
         "rawType": "object",
         "type": "string"
        },
        {
         "name": "UNIT_MEASURE",
         "rawType": "object",
         "type": "string"
        },
        {
         "name": "UNIT_MULT",
         "rawType": "object",
         "type": "string"
        }
       ],
       "ref": "9955e013-7317-4f1c-90b7-335514c6af4e",
       "rows": [
        [
         "DCH.FCE.PHS.20.AUS.Q.IN.0",
         "Implicit price deflators",
         "Final consumption expenditure",
         "Households",
         "Seasonally Adjusted",
         "Australia",
         "Quarterly",
         "IN",
         "0"
        ],
        [
         "DCH.FCE.GGC.20.AUS.Q.IN.0",
         "Implicit price deflators",
         "Final consumption expenditure",
         "General government - National",
         "Seasonally Adjusted",
         "Australia",
         "Quarterly",
         "IN",
         "0"
        ],
        [
         "DCH.FCE.SSS.20.AUS.Q.IN.0",
         "Implicit price deflators",
         "Final consumption expenditure",
         "All sectors",
         "Seasonally Adjusted",
         "Australia",
         "Quarterly",
         "IN",
         "0"
        ],
        [
         "DCH.FCE.GGS_SL.20.AUS.Q.IN.0",
         "Implicit price deflators",
         "Final consumption expenditure",
         "General government - State and local",
         "Seasonally Adjusted",
         "Australia",
         "Quarterly",
         "IN",
         "0"
        ],
        [
         "DCH.FCE.GGS.20.AUS.Q.IN.0",
         "Implicit price deflators",
         "Final consumption expenditure",
         "General government",
         "Seasonally Adjusted",
         "Australia",
         "Quarterly",
         "IN",
         "0"
        ]
       ],
       "shape": {
        "columns": 8,
        "rows": 5
       }
      },
      "text/html": [
       "<div>\n",
       "<style scoped>\n",
       "    .dataframe tbody tr th:only-of-type {\n",
       "        vertical-align: middle;\n",
       "    }\n",
       "\n",
       "    .dataframe tbody tr th {\n",
       "        vertical-align: top;\n",
       "    }\n",
       "\n",
       "    .dataframe thead th {\n",
       "        text-align: right;\n",
       "    }\n",
       "</style>\n",
       "<table border=\"1\" class=\"dataframe\">\n",
       "  <thead>\n",
       "    <tr style=\"text-align: right;\">\n",
       "      <th></th>\n",
       "      <th>MEASURE</th>\n",
       "      <th>DATA_ITEM</th>\n",
       "      <th>SECTOR</th>\n",
       "      <th>TSEST</th>\n",
       "      <th>REGION</th>\n",
       "      <th>FREQ</th>\n",
       "      <th>UNIT_MEASURE</th>\n",
       "      <th>UNIT_MULT</th>\n",
       "    </tr>\n",
       "  </thead>\n",
       "  <tbody>\n",
       "    <tr>\n",
       "      <th>DCH.FCE.PHS.20.AUS.Q.IN.0</th>\n",
       "      <td>Implicit price deflators</td>\n",
       "      <td>Final consumption expenditure</td>\n",
       "      <td>Households</td>\n",
       "      <td>Seasonally Adjusted</td>\n",
       "      <td>Australia</td>\n",
       "      <td>Quarterly</td>\n",
       "      <td>IN</td>\n",
       "      <td>0</td>\n",
       "    </tr>\n",
       "    <tr>\n",
       "      <th>DCH.FCE.GGC.20.AUS.Q.IN.0</th>\n",
       "      <td>Implicit price deflators</td>\n",
       "      <td>Final consumption expenditure</td>\n",
       "      <td>General government - National</td>\n",
       "      <td>Seasonally Adjusted</td>\n",
       "      <td>Australia</td>\n",
       "      <td>Quarterly</td>\n",
       "      <td>IN</td>\n",
       "      <td>0</td>\n",
       "    </tr>\n",
       "    <tr>\n",
       "      <th>DCH.FCE.SSS.20.AUS.Q.IN.0</th>\n",
       "      <td>Implicit price deflators</td>\n",
       "      <td>Final consumption expenditure</td>\n",
       "      <td>All sectors</td>\n",
       "      <td>Seasonally Adjusted</td>\n",
       "      <td>Australia</td>\n",
       "      <td>Quarterly</td>\n",
       "      <td>IN</td>\n",
       "      <td>0</td>\n",
       "    </tr>\n",
       "    <tr>\n",
       "      <th>DCH.FCE.GGS_SL.20.AUS.Q.IN.0</th>\n",
       "      <td>Implicit price deflators</td>\n",
       "      <td>Final consumption expenditure</td>\n",
       "      <td>General government - State and local</td>\n",
       "      <td>Seasonally Adjusted</td>\n",
       "      <td>Australia</td>\n",
       "      <td>Quarterly</td>\n",
       "      <td>IN</td>\n",
       "      <td>0</td>\n",
       "    </tr>\n",
       "    <tr>\n",
       "      <th>DCH.FCE.GGS.20.AUS.Q.IN.0</th>\n",
       "      <td>Implicit price deflators</td>\n",
       "      <td>Final consumption expenditure</td>\n",
       "      <td>General government</td>\n",
       "      <td>Seasonally Adjusted</td>\n",
       "      <td>Australia</td>\n",
       "      <td>Quarterly</td>\n",
       "      <td>IN</td>\n",
       "      <td>0</td>\n",
       "    </tr>\n",
       "  </tbody>\n",
       "</table>\n",
       "</div>"
      ],
      "text/plain": [
       "                                               MEASURE  \\\n",
       "DCH.FCE.PHS.20.AUS.Q.IN.0     Implicit price deflators   \n",
       "DCH.FCE.GGC.20.AUS.Q.IN.0     Implicit price deflators   \n",
       "DCH.FCE.SSS.20.AUS.Q.IN.0     Implicit price deflators   \n",
       "DCH.FCE.GGS_SL.20.AUS.Q.IN.0  Implicit price deflators   \n",
       "DCH.FCE.GGS.20.AUS.Q.IN.0     Implicit price deflators   \n",
       "\n",
       "                                                  DATA_ITEM  \\\n",
       "DCH.FCE.PHS.20.AUS.Q.IN.0     Final consumption expenditure   \n",
       "DCH.FCE.GGC.20.AUS.Q.IN.0     Final consumption expenditure   \n",
       "DCH.FCE.SSS.20.AUS.Q.IN.0     Final consumption expenditure   \n",
       "DCH.FCE.GGS_SL.20.AUS.Q.IN.0  Final consumption expenditure   \n",
       "DCH.FCE.GGS.20.AUS.Q.IN.0     Final consumption expenditure   \n",
       "\n",
       "                                                            SECTOR  \\\n",
       "DCH.FCE.PHS.20.AUS.Q.IN.0                               Households   \n",
       "DCH.FCE.GGC.20.AUS.Q.IN.0            General government - National   \n",
       "DCH.FCE.SSS.20.AUS.Q.IN.0                              All sectors   \n",
       "DCH.FCE.GGS_SL.20.AUS.Q.IN.0  General government - State and local   \n",
       "DCH.FCE.GGS.20.AUS.Q.IN.0                       General government   \n",
       "\n",
       "                                            TSEST     REGION       FREQ  \\\n",
       "DCH.FCE.PHS.20.AUS.Q.IN.0     Seasonally Adjusted  Australia  Quarterly   \n",
       "DCH.FCE.GGC.20.AUS.Q.IN.0     Seasonally Adjusted  Australia  Quarterly   \n",
       "DCH.FCE.SSS.20.AUS.Q.IN.0     Seasonally Adjusted  Australia  Quarterly   \n",
       "DCH.FCE.GGS_SL.20.AUS.Q.IN.0  Seasonally Adjusted  Australia  Quarterly   \n",
       "DCH.FCE.GGS.20.AUS.Q.IN.0     Seasonally Adjusted  Australia  Quarterly   \n",
       "\n",
       "                             UNIT_MEASURE UNIT_MULT  \n",
       "DCH.FCE.PHS.20.AUS.Q.IN.0              IN         0  \n",
       "DCH.FCE.GGC.20.AUS.Q.IN.0              IN         0  \n",
       "DCH.FCE.SSS.20.AUS.Q.IN.0              IN         0  \n",
       "DCH.FCE.GGS_SL.20.AUS.Q.IN.0           IN         0  \n",
       "DCH.FCE.GGS.20.AUS.Q.IN.0              IN         0  "
      ]
     },
     "execution_count": 11,
     "metadata": {},
     "output_type": "execute_result"
    }
   ],
   "source": [
    "# fetch one of the data flows and look at the meta data\n",
    "flow_id = \"ANA_EXP\"\n",
    "dimensions = {\n",
    "    \"MEASURE\": \"DCH\",   # Implicit Price Deflators\n",
    "    \"DATA_ITEM\": \"FCE\", # Final Consumption Expenditure\n",
    "    \"TSEST\": \"20\",      # Seasonally Adjusted\n",
    "    \"REGION\": \"AUS\",    # Australia\n",
    "}\n",
    "data, meta = sa.fetch(flow_id, dims=dimensions, validate=True)\n",
    "\n",
    "# A quick look at the meta data - noting multiple items selected.\n",
    "meta"
   ]
  },
  {
   "cell_type": "markdown",
   "metadata": {},
   "source": [
    "## Download selected ABS series"
   ]
  },
  {
   "cell_type": "code",
   "execution_count": 12,
   "metadata": {},
   "outputs": [],
   "source": [
    "# from the above exploration, we found the following \n",
    "# data flows of interest. Irrelevant values are indicated with\n",
    "# a dash (-) in the selection table below. These will\n",
    "# be ignored when constructing the key to fectch the data.\n",
    "\n",
    "# --- monthly selections\n",
    "monthly_text = \"\"\"\n",
    "flow_id, MEASURE, INDEX, TSEST, REGION, FREQ\n",
    "CPI_M,         3, 10001,    10,     50,    M\n",
    "CPI_M,         3, 999905,   10,     50,    M\n",
    "\"\"\"\n",
    "monthly_selection = pd.read_csv(StringIO(monthly_text), dtype=str, skipinitialspace=True)\n",
    "\n",
    "# --- quarterly selections\n",
    "quarterly_text=\"\"\"\n",
    "flow_id, MEASURE, INDEX, TSEST, REGION, DATA_ITEM, SECTOR, FREQ\n",
    "CPI,           3, 10001,    10,     50,         -,      -,    Q\n",
    "CPI,           3, 999902,   20,     50,         -,      -,    Q\n",
    "CPI,           3, 999903,   20,     50,         -,      -,    Q\n",
    "ANA_EXP,     DCH,      -,   20,    AUS,       FCE,    PHS,    Q\n",
    "\"\"\"\n",
    "quarterly_selection = pd.read_csv(StringIO(quarterly_text), dtype=str, skipinitialspace=True)\n",
    "\n",
    "data_flows = pd.concat([monthly_selection, quarterly_selection], axis=0, ignore_index=True)['flow_id'].unique()\n",
    "\n",
    "# fetch the data for the monthly and quarterly selections\n",
    "m_data, m_meta = sa.fetch_multi(monthly_selection, validate=True)\n",
    "q_data, q_meta = sa.fetch_multi(quarterly_selection, validate=False)"
   ]
  },
  {
   "cell_type": "markdown",
   "metadata": {},
   "source": [
    "## Data preparation for plotting"
   ]
  },
  {
   "cell_type": "code",
   "execution_count": 13,
   "metadata": {},
   "outputs": [],
   "source": [
    "# convert HFCE-index to a TTY growth percentage\n",
    "q_data['DCH.FCE.PHS.20.AUS.Q.IN.0'] = q_data['DCH.FCE.PHS.20.AUS.Q.IN.0'].pct_change(4) * 100\n",
    "\n",
    "# convert quarterly to monthly data\n",
    "q_data.index = cast(pd.PeriodIndex, q_data.index).to_timestamp(how=\"end\").to_period('M')\n",
    "\n",
    "# get a common recent starting point for the two data sets\n",
    "recent = q_data.index[-9]\n",
    "\n",
    "# combine the data sets\n",
    "data = pd.concat([m_data, q_data], axis=1).sort_index()\n",
    "meta = pd.concat([m_meta, q_meta], axis=0)\n",
    "\n",
    "# name the columns with something human readable (for the legend)\n",
    "meta[\"INDEX\"] = meta[\"INDEX\"].where(meta[\"INDEX\"].notna(), other=meta[\"DATA_ITEM\"] + \" \" + meta[\"SECTOR\"])\n",
    "renamer = {}\n",
    "for col in data.columns:\n",
    "    name = f\"{meta.loc[col, 'FREQ']} {meta.loc[col, 'INDEX']} {meta.loc[col, 'TSEST']}\"\n",
    "    renamer[col] = name\n",
    "data.rename(columns=renamer, inplace=True)"
   ]
  },
  {
   "cell_type": "markdown",
   "metadata": {},
   "source": [
    "## Plot the data"
   ]
  },
  {
   "cell_type": "code",
   "execution_count": 14,
   "metadata": {},
   "outputs": [
    {
     "name": "stdout",
     "output_type": "stream",
     "text": [
      "Warning: Data index appears to be missing 552 values, in line_plot. Check the data for completeness.\n"
     ]
    },
    {
     "data": {
      "image/png": "[encoded data removed]",
      "text/plain": [
       "<Figure size 900x450 with 1 Axes>"
      ]
     },
     "metadata": {},
     "output_type": "display_data"
    },
    {
     "name": "stdout",
     "output_type": "stream",
     "text": [
      "Warning: Data index appears to be missing 552 values, in line_plot. Check the data for completeness.\n"
     ]
    },
    {
     "data": {
      "image/png": "[encoded data removed]",
      "text/plain": [
       "<Figure size 900x450 with 1 Axes>"
      ]
     },
     "metadata": {},
     "output_type": "display_data"
    }
   ],
   "source": [
    "mg.multi_start(\n",
    "    data,\n",
    "    starts=(0, recent),\n",
    "    function=mg.line_plot_finalise,\n",
    "    title=\"Inflation Measures\",\n",
    "    ylabel=\"Through the Year Percentage Change\",\n",
    "    axhspan={\"ymin\": 2, \"ymax\": 3, \"color\": \"lightgrey\", \"alpha\": 0.5, \"label\": \"RBA Target Band\", \"zorder\": -1},\n",
    "    legend={\"loc\": \"best\", \"ncol\": 1, \"fontsize\": \"x-small\"},\n",
    "    #marker=list(\"<>^vosD\"),\n",
    "    #markersize=100,\n",
    "    lfooter=\"Australia. \",\n",
    "    rfooter=f\"ABS SDMX dataflows: {', '.join(data_flows)}\",\n",
    "    show=SHOW,\n",
    ")"
   ]
  },
  {
   "cell_type": "markdown",
   "metadata": {},
   "source": [
    "## Finished"
   ]
  },
  {
   "cell_type": "code",
   "execution_count": 15,
   "metadata": {},
   "outputs": [
    {
     "name": "stdout",
     "output_type": "stream",
     "text": [
      "Last updated: 2025-07-07 21:20:20\n",
      "\n",
      "Python implementation: CPython\n",
      "Python version       : 3.13.5\n",
      "IPython version      : 9.4.0\n",
      "\n",
      "conda environment: n/a\n",
      "\n",
      "Compiler    : Clang 20.1.4 \n",
      "OS          : Darwin\n",
      "Release     : 24.5.0\n",
      "Machine     : arm64\n",
      "Processor   : arm\n",
      "CPU cores   : 14\n",
      "Architecture: 64bit\n",
      "\n",
      "pandas : 2.3.0\n",
      "typing : 3.10.0.0\n",
      "mgplot : 0.2.6\n",
      "sdmxabs: 0.1.2\n",
      "\n",
      "Watermark: 2.5.0\n",
      "\n"
     ]
    }
   ],
   "source": [
    "# watermark\n",
    "%load_ext watermark\n",
    "%watermark -u -t -d --iversions --watermark --machine --python --conda"
   ]
  },
  {
   "cell_type": "code",
   "execution_count": 16,
   "metadata": {
    "ExecuteTime": {
     "end_time": "2021-06-17T03:27:52.897323Z",
     "start_time": "2021-06-17T03:27:52.893824Z"
    }
   },
   "outputs": [
    {
     "name": "stdout",
     "output_type": "stream",
     "text": [
      "Finished\n"
     ]
    }
   ],
   "source": [
    "print(\"Finished\")"
   ]
  }
 ],
 "metadata": {
  "kernelspec": {
   "display_name": "sdmxabs",
   "language": "python",
   "name": "python3"
  },
  "language_info": {
   "codemirror_mode": {
    "name": "ipython",
    "version": 3
   },
   "file_extension": ".py",
   "mimetype": "text/x-python",
   "name": "python",
   "nbconvert_exporter": "python",
   "pygments_lexer": "ipython3",
   "version": "3.13.5"
  },
  "toc": {
   "base_numbering": 1,
   "nav_menu": {},
   "number_sections": true,
   "sideBar": true,
   "skip_h1_title": true,
   "title_cell": "Table of Contents",
   "title_sidebar": "Contents",
   "toc_cell": true,
   "toc_position": {
    "height": "calc(100% - 180px)",
    "left": "10px",
    "top": "150px",
    "width": "233.292px"
   },
   "toc_section_display": true,
   "toc_window_display": true
  }
 },
 "nbformat": 4,
 "nbformat_minor": 4
}
