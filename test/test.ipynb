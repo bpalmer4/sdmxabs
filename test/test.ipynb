{
 "cells": [
  {
   "cell_type": "markdown",
   "id": "185db33d",
   "metadata": {},
   "source": [
    "# Preliminary tests for sdmxabs"
   ]
  },
  {
   "cell_type": "markdown",
   "id": "03196b30",
   "metadata": {},
   "source": [
    "## Python set-up"
   ]
  },
  {
   "cell_type": "code",
   "execution_count": 4,
   "id": "dcbb9dce",
   "metadata": {},
   "outputs": [],
   "source": [
    "import lxml.etree as etree\n",
    "from io import StringIO\n",
    "import sdmxabs\n"
   ]
  },
  {
   "cell_type": "code",
   "execution_count": 5,
   "id": "6e3d3ca0",
   "metadata": {},
   "outputs": [
    {
     "name": "stdout",
     "output_type": "stream",
     "text": [
      "get_data called with: {'verbose': True, 'modality': 'prefer_cache'}\n",
      "Retrieving from cache: .sdmxabs_cache/cache--246bf16939dd745592f82e9a4aa663a5bd0900041f108f46f62938969cf23013--\n"
     ]
    }
   ],
   "source": [
    "x = sdmxabs.abs_catalogue(verbose=True)"
   ]
  },
  {
   "cell_type": "code",
   "execution_count": 6,
   "id": "85b9d898",
   "metadata": {},
   "outputs": [
    {
     "name": "stdout",
     "output_type": "stream",
     "text": [
      "Size of metadata: 3,167,991\n"
     ]
    }
   ],
   "source": [
    "print(f\"Size of metadata: {len(x):,}\")"
   ]
  }
 ],
 "metadata": {
  "kernelspec": {
   "display_name": ".venv",
   "language": "python",
   "name": "python3"
  },
  "language_info": {
   "codemirror_mode": {
    "name": "ipython",
    "version": 3
   },
   "file_extension": ".py",
   "mimetype": "text/x-python",
   "name": "python",
   "nbconvert_exporter": "python",
   "pygments_lexer": "ipython3",
   "version": "3.13.5"
  }
 },
 "nbformat": 4,
 "nbformat_minor": 5
}
